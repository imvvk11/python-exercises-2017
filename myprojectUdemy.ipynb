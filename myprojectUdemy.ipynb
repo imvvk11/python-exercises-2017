{
 "cells": [
  {
   "cell_type": "code",
   "execution_count": 2,
   "metadata": {
    "collapsed": false
   },
   "outputs": [
    {
     "name": "stdout",
     "output_type": "stream",
     "text": [
      "8\n"
     ]
    }
   ],
   "source": [
    "print (2 ** 3)"
   ]
  },
  {
   "cell_type": "code",
   "execution_count": 3,
   "metadata": {
    "collapsed": false
   },
   "outputs": [
    {
     "name": "stdout",
     "output_type": "stream",
     "text": [
      "2017-06-04 23:22:15.827576\n"
     ]
    }
   ],
   "source": [
    "import datetime\n",
    "viv = datetime.datetime.now()\n",
    "print (viv)"
   ]
  },
  {
   "cell_type": "code",
   "execution_count": 4,
   "metadata": {
    "collapsed": false
   },
   "outputs": [
    {
     "data": {
      "text/plain": [
       "'C:\\\\Users\\\\vivek vishwakarma'"
      ]
     },
     "execution_count": 4,
     "metadata": {},
     "output_type": "execute_result"
    }
   ],
   "source": [
    "pwd"
   ]
  },
  {
   "cell_type": "code",
   "execution_count": 5,
   "metadata": {
    "collapsed": false
   },
   "outputs": [
    {
     "name": "stdout",
     "output_type": "stream",
     "text": [
      " Volume in drive C is OS\n",
      " Volume Serial Number is 4248-089F\n",
      "\n",
      " Directory of C:\\Users\\vivek vishwakarma\n",
      "\n",
      "04-06-2017  22:59    <DIR>          .\n",
      "04-06-2017  22:59    <DIR>          ..\n",
      "11-05-2017  22:18    <DIR>          .anaconda\n",
      "03-06-2017  14:53             5,836 .bash_history\n",
      "30-05-2017  19:01    <DIR>          .config\n",
      "26-05-2017  19:13    <DIR>          .gem\n",
      "09-05-2017  19:48    <DIR>          .idlerc\n",
      "29-05-2017  19:47    <DIR>          .ipynb_checkpoints\n",
      "11-05-2017  04:15    <DIR>          .ipython\n",
      "12-05-2017  01:10    <DIR>          .jupyter\n",
      "14-04-2017  11:54    <DIR>          .matplotlib\n",
      "24-03-2017  01:50    <DIR>          .ssh\n",
      "25-04-2017  09:09    <DIR>          .thumbnails\n",
      "31-05-2017  14:59            10,342 .viminfo\n",
      "29-05-2017  03:07         2,920,549 0001-0100.ogv\n",
      "29-05-2017  04:17         2,922,544 0001-0120.ogv\n",
      "11-05-2017  04:12    <DIR>          Anaconda3\n",
      "29-05-2017  02:48        20,598,524 animation.blend\n",
      "29-05-2017  02:28        11,892,560 animation.blend1\n",
      "29-05-2017  04:17    <DIR>          blendcache_watertext\n",
      "30-05-2017  21:35    <DIR>          Complete-Python-Bootcamp-master\n",
      "13-10-2016  03:41    <DIR>          Contacts\n",
      "03-06-2017  09:46    <DIR>          Desktop\n",
      "11-05-2017  04:11    <DIR>          Documents\n",
      "03-06-2017  09:46    <DIR>          Downloads\n",
      "13-10-2016  03:41    <DIR>          Favorites\n",
      "01-02-2017  23:41    <DIR>          Links\n",
      "13-10-2016  03:41    <DIR>          Music\n",
      "04-06-2017  22:59            40,215 myprojectUdemy.ipynb\n",
      "02-05-2017  16:07        15,017,624 node.exe\n",
      "02-05-2017  15:54             9,003 node_etw_provider.man\n",
      "30-05-2017  18:39    <DIR>          node_modules\n",
      "22-12-2016  18:01             4,974 node_perfctr_provider.man\n",
      "22-12-2016  18:01               702 nodevars.bat\n",
      "16-11-2016  19:45               867 npm\n",
      "16-11-2016  19:45               483 npm.cmd\n",
      "18-03-2017  01:22    <DIR>          Pictures\n",
      "03-06-2017  10:33            12,300 Python exercises.ipynb\n",
      "05-02-2017  15:47    <DIR>          Saved Games\n",
      "13-10-2016  03:41    <DIR>          Searches\n",
      "01-02-2017  22:39    <DIR>          Videos\n",
      "12-05-2017  01:18        17,588,464 vines1.blend\n",
      "11-05-2017  03:44        17,588,336 vines1.blend1\n",
      "12-05-2017  01:28         1,478,212 vivekpng.png\n",
      "29-05-2017  03:30         5,028,092 watertext.blend\n",
      "29-05-2017  03:20         4,968,276 watertext.blend1\n",
      "              19 File(s)    100,087,903 bytes\n",
      "              27 Dir(s)  364,128,436,224 bytes free\n"
     ]
    }
   ],
   "source": [
    "ls"
   ]
  },
  {
   "cell_type": "code",
   "execution_count": 6,
   "metadata": {
    "collapsed": false
   },
   "outputs": [
    {
     "name": "stdout",
     "output_type": "stream",
     "text": [
      " Volume in drive C is OS\n",
      " Volume Serial Number is 4248-089F\n",
      "\n",
      " Directory of C:\\Users\\vivek vishwakarma\n",
      "\n"
     ]
    },
    {
     "name": "stderr",
     "output_type": "stream",
     "text": [
      "File Not Found\n"
     ]
    }
   ],
   "source": [
    "ls -alt"
   ]
  },
  {
   "cell_type": "code",
   "execution_count": 7,
   "metadata": {
    "collapsed": false
   },
   "outputs": [
    {
     "name": "stdout",
     "output_type": "stream",
     "text": [
      "C:\\Users\\vivek vishwakarma\\Anaconda3\n"
     ]
    }
   ],
   "source": [
    "cd Anaconda3"
   ]
  },
  {
   "cell_type": "code",
   "execution_count": 8,
   "metadata": {
    "collapsed": false
   },
   "outputs": [
    {
     "name": "stdout",
     "output_type": "stream",
     "text": [
      " Volume in drive C is OS\n",
      " Volume Serial Number is 4248-089F\n",
      "\n",
      " Directory of C:\\Users\\vivek vishwakarma\\Anaconda3\n",
      "\n",
      "11-05-2017  04:12    <DIR>          .\n",
      "11-05-2017  04:12    <DIR>          ..\n",
      "11-05-2017  04:11                 0 .nonadmin\n",
      "10-07-2015  10:02            19,136 api-ms-win-core-console-l1-1-0.dll\n",
      "10-07-2015  10:02            18,624 api-ms-win-core-datetime-l1-1-0.dll\n",
      "10-07-2015  10:02            18,624 api-ms-win-core-debug-l1-1-0.dll\n",
      "10-07-2015  10:02            18,624 api-ms-win-core-errorhandling-l1-1-0.dll\n",
      "10-07-2015  10:02            22,208 api-ms-win-core-file-l1-1-0.dll\n",
      "10-07-2015  10:02            18,624 api-ms-win-core-file-l1-2-0.dll\n",
      "10-07-2015  10:02            18,624 api-ms-win-core-file-l2-1-0.dll\n",
      "10-07-2015  10:02            18,624 api-ms-win-core-handle-l1-1-0.dll\n",
      "10-07-2015  10:02            19,136 api-ms-win-core-heap-l1-1-0.dll\n",
      "10-07-2015  10:02            19,136 api-ms-win-core-interlocked-l1-1-0.dll\n",
      "10-07-2015  10:02            19,136 api-ms-win-core-libraryloader-l1-1-0.dll\n",
      "10-07-2015  10:02            21,184 api-ms-win-core-localization-l1-2-0.dll\n",
      "10-07-2015  10:02            19,136 api-ms-win-core-memory-l1-1-0.dll\n",
      "10-07-2015  10:02            18,624 api-ms-win-core-namedpipe-l1-1-0.dll\n",
      "10-07-2015  10:02            19,648 api-ms-win-core-processenvironment-l1-1-0.dll\n",
      "10-07-2015  10:02            20,672 api-ms-win-core-processthreads-l1-1-0.dll\n",
      "10-07-2015  10:02            19,136 api-ms-win-core-processthreads-l1-1-1.dll\n",
      "10-07-2015  10:02            18,112 api-ms-win-core-profile-l1-1-0.dll\n",
      "10-07-2015  10:02            18,112 api-ms-win-core-rtlsupport-l1-1-0.dll\n",
      "10-07-2015  10:02            18,624 api-ms-win-core-string-l1-1-0.dll\n",
      "10-07-2015  10:02            20,672 api-ms-win-core-synch-l1-1-0.dll\n",
      "10-07-2015  10:02            19,136 api-ms-win-core-synch-l1-2-0.dll\n",
      "10-07-2015  10:02            19,648 api-ms-win-core-sysinfo-l1-1-0.dll\n",
      "10-07-2015  10:02            18,624 api-ms-win-core-timezone-l1-1-0.dll\n",
      "10-07-2015  10:02            18,624 api-ms-win-core-util-l1-1-0.dll\n",
      "10-07-2015  10:02            19,648 api-ms-win-crt-conio-l1-1-0.dll\n",
      "10-07-2015  10:02            22,720 api-ms-win-crt-convert-l1-1-0.dll\n",
      "10-07-2015  10:02            19,136 api-ms-win-crt-environment-l1-1-0.dll\n",
      "10-07-2015  10:02            20,672 api-ms-win-crt-filesystem-l1-1-0.dll\n",
      "10-07-2015  10:02            19,648 api-ms-win-crt-heap-l1-1-0.dll\n",
      "10-07-2015  10:02            19,136 api-ms-win-crt-locale-l1-1-0.dll\n",
      "10-07-2015  10:02            29,376 api-ms-win-crt-math-l1-1-0.dll\n",
      "10-07-2015  10:02            26,816 api-ms-win-crt-multibyte-l1-1-0.dll\n",
      "10-07-2015  10:02            73,408 api-ms-win-crt-private-l1-1-0.dll\n",
      "10-07-2015  10:02            19,648 api-ms-win-crt-process-l1-1-0.dll\n",
      "10-07-2015  10:02            23,232 api-ms-win-crt-runtime-l1-1-0.dll\n",
      "10-07-2015  10:02            24,768 api-ms-win-crt-stdio-l1-1-0.dll\n",
      "10-07-2015  10:02            24,768 api-ms-win-crt-string-l1-1-0.dll\n",
      "10-07-2015  10:02            21,184 api-ms-win-crt-time-l1-1-0.dll\n",
      "10-07-2015  10:02            19,136 api-ms-win-crt-utility-l1-1-0.dll\n",
      "18-03-2016  10:18           244,544 concrt140.dll\n",
      "11-05-2017  04:11    <DIR>          conda-meta\n",
      "25-01-2017  00:54             1,034 cwp.py\n",
      "11-05-2017  04:03    <DIR>          DLLs\n",
      "11-05-2017  04:03    <DIR>          Doc\n",
      "11-05-2017  04:11    <DIR>          envs\n",
      "11-05-2017  04:11    <DIR>          etc\n",
      "11-05-2017  04:10    <DIR>          include\n",
      "11-05-2017  04:11    <DIR>          Lib\n",
      "11-05-2017  04:10    <DIR>          Library\n",
      "11-05-2017  04:03    <DIR>          libs\n",
      "11-05-2017  04:07    <DIR>          man\n",
      "11-05-2017  04:11    <DIR>          Menu\n",
      "18-03-2016  10:18           443,712 msvcp140.dll\n",
      "11-05-2017  04:03    <DIR>          pkgs\n",
      "24-12-2016  00:37            90,624 python.exe\n",
      "24-12-2016  00:37           421,888 python.pdb\n",
      "24-12-2016  00:37         3,251,200 python36.dll\n",
      "24-12-2016  00:37         9,498,624 python36.pdb\n",
      "15-01-2017  21:38           506,368 pythoncom36.dll\n",
      "24-12-2016  00:37            89,088 pythonw.exe\n",
      "24-12-2016  00:37           421,888 pythonw.pdb\n",
      "15-01-2017  21:36           114,176 pywintypes36.dll\n",
      "11-05-2017  04:10               259 qt.conf\n",
      "11-05-2017  04:11    <DIR>          Scripts\n",
      "11-05-2017  04:11    <DIR>          share\n",
      "11-05-2017  04:09    <DIR>          sip\n",
      "11-05-2017  04:04    <DIR>          tcl\n",
      "11-05-2017  04:03    <DIR>          Tools\n",
      "10-07-2015  10:03           900,288 ucrtbase.dll\n",
      "11-05-2017  04:12           653,820 Uninstall-Anaconda.exe\n",
      "18-03-2016  10:18           271,176 vccorlib140.dll\n",
      "18-03-2016  10:18           163,128 vcomp140.dll\n",
      "18-03-2016  10:18            85,840 vcruntime140.dll\n",
      "23-02-2016  23:21           276,480 xlwings32.dll\n",
      "23-02-2016  23:21           344,064 xlwings64.dll\n",
      "              60 File(s)     18,641,945 bytes\n",
      "              19 Dir(s)  364,128,419,840 bytes free\n"
     ]
    }
   ],
   "source": [
    "ls"
   ]
  },
  {
   "cell_type": "code",
   "execution_count": 9,
   "metadata": {
    "collapsed": false
   },
   "outputs": [
    {
     "name": "stdout",
     "output_type": "stream",
     "text": [
      "C:\\Users\\vivek vishwakarma\n"
     ]
    }
   ],
   "source": [
    "cd .."
   ]
  },
  {
   "cell_type": "raw",
   "metadata": {},
   "source": []
  },
  {
   "cell_type": "code",
   "execution_count": 10,
   "metadata": {
    "collapsed": false
   },
   "outputs": [
    {
     "name": "stdout",
     "output_type": "stream",
     "text": [
      "\f",
      "\n"
     ]
    }
   ],
   "source": [
    "clear"
   ]
  },
  {
   "cell_type": "code",
   "execution_count": 11,
   "metadata": {
    "collapsed": false
   },
   "outputs": [
    {
     "name": "stdout",
     "output_type": "stream",
     "text": [
      " Volume in drive C is OS\n",
      " Volume Serial Number is 4248-089F\n",
      "\n",
      " Directory of C:\\Users\\vivek vishwakarma\n",
      "\n",
      "04-06-2017  22:59    <DIR>          .\n",
      "04-06-2017  22:59    <DIR>          ..\n",
      "11-05-2017  22:18    <DIR>          .anaconda\n",
      "03-06-2017  14:53             5,836 .bash_history\n",
      "30-05-2017  19:01    <DIR>          .config\n",
      "26-05-2017  19:13    <DIR>          .gem\n",
      "09-05-2017  19:48    <DIR>          .idlerc\n",
      "29-05-2017  19:47    <DIR>          .ipynb_checkpoints\n",
      "11-05-2017  04:15    <DIR>          .ipython\n",
      "12-05-2017  01:10    <DIR>          .jupyter\n",
      "14-04-2017  11:54    <DIR>          .matplotlib\n",
      "24-03-2017  01:50    <DIR>          .ssh\n",
      "25-04-2017  09:09    <DIR>          .thumbnails\n",
      "31-05-2017  14:59            10,342 .viminfo\n",
      "29-05-2017  03:07         2,920,549 0001-0100.ogv\n",
      "29-05-2017  04:17         2,922,544 0001-0120.ogv\n",
      "11-05-2017  04:12    <DIR>          Anaconda3\n",
      "29-05-2017  02:48        20,598,524 animation.blend\n",
      "29-05-2017  02:28        11,892,560 animation.blend1\n",
      "29-05-2017  04:17    <DIR>          blendcache_watertext\n",
      "30-05-2017  21:35    <DIR>          Complete-Python-Bootcamp-master\n",
      "13-10-2016  03:41    <DIR>          Contacts\n",
      "03-06-2017  09:46    <DIR>          Desktop\n",
      "11-05-2017  04:11    <DIR>          Documents\n",
      "03-06-2017  09:46    <DIR>          Downloads\n",
      "13-10-2016  03:41    <DIR>          Favorites\n",
      "01-02-2017  23:41    <DIR>          Links\n",
      "13-10-2016  03:41    <DIR>          Music\n",
      "04-06-2017  22:59            40,215 myprojectUdemy.ipynb\n",
      "02-05-2017  16:07        15,017,624 node.exe\n",
      "02-05-2017  15:54             9,003 node_etw_provider.man\n",
      "30-05-2017  18:39    <DIR>          node_modules\n",
      "22-12-2016  18:01             4,974 node_perfctr_provider.man\n",
      "22-12-2016  18:01               702 nodevars.bat\n",
      "16-11-2016  19:45               867 npm\n",
      "16-11-2016  19:45               483 npm.cmd\n",
      "18-03-2017  01:22    <DIR>          Pictures\n",
      "03-06-2017  10:33            12,300 Python exercises.ipynb\n",
      "05-02-2017  15:47    <DIR>          Saved Games\n",
      "13-10-2016  03:41    <DIR>          Searches\n",
      "01-02-2017  22:39    <DIR>          Videos\n",
      "12-05-2017  01:18        17,588,464 vines1.blend\n",
      "11-05-2017  03:44        17,588,336 vines1.blend1\n",
      "12-05-2017  01:28         1,478,212 vivekpng.png\n",
      "29-05-2017  03:30         5,028,092 watertext.blend\n",
      "29-05-2017  03:20         4,968,276 watertext.blend1\n",
      "              19 File(s)    100,087,903 bytes\n",
      "              27 Dir(s)  364,128,432,128 bytes free\n"
     ]
    }
   ],
   "source": [
    "ls"
   ]
  },
  {
   "cell_type": "code",
   "execution_count": 12,
   "metadata": {
    "collapsed": false
   },
   "outputs": [
    {
     "name": "stdout",
     "output_type": "stream",
     "text": [
      "C:\\Users\\vivek vishwakarma\\Complete-Python-Bootcamp-master\n"
     ]
    }
   ],
   "source": [
    "cd Complete-Python-Bootcamp-master/"
   ]
  },
  {
   "cell_type": "code",
   "execution_count": null,
   "metadata": {
    "collapsed": true
   },
   "outputs": [],
   "source": []
  },
  {
   "cell_type": "code",
   "execution_count": 14,
   "metadata": {
    "collapsed": false
   },
   "outputs": [
    {
     "name": "stdout",
     "output_type": "stream",
     "text": [
      "C:\\Users\\vivek vishwakarma\n"
     ]
    }
   ],
   "source": [
    "cd .."
   ]
  },
  {
   "cell_type": "code",
   "execution_count": 15,
   "metadata": {
    "collapsed": false
   },
   "outputs": [
    {
     "name": "stdout",
     "output_type": "stream",
     "text": [
      "(1999, 2, 1)\n"
     ]
    }
   ],
   "source": [
    "def nextday(year, month, day):\n",
    "    if day < 30:\n",
    "        return (year, month, day + 1)\n",
    "    else:\n",
    "        if month == 12:\n",
    "            return (year + 1, 1, 1)\n",
    "        else:\n",
    "            return (year, month + 1, 1)\n",
    "print (nextday(1999, 1, 30))"
   ]
  },
  {
   "cell_type": "code",
   "execution_count": 16,
   "metadata": {
    "collapsed": false
   },
   "outputs": [
    {
     "name": "stdout",
     "output_type": "stream",
     "text": [
      "(2001, 1, 1)\n"
     ]
    }
   ],
   "source": [
    "print (nextday(2000, 12, 30))"
   ]
  },
  {
   "cell_type": "code",
   "execution_count": 17,
   "metadata": {
    "collapsed": true
   },
   "outputs": [],
   "source": [
    "varstr = 'Just go and love yourself!'"
   ]
  },
  {
   "cell_type": "code",
   "execution_count": 18,
   "metadata": {
    "collapsed": false
   },
   "outputs": [
    {
     "data": {
      "text/plain": [
       "'Just go and love yourself!'"
      ]
     },
     "execution_count": 18,
     "metadata": {},
     "output_type": "execute_result"
    }
   ],
   "source": [
    "varstr[::]"
   ]
  },
  {
   "cell_type": "raw",
   "metadata": {},
   "source": []
  },
  {
   "cell_type": "code",
   "execution_count": 19,
   "metadata": {
    "collapsed": false
   },
   "outputs": [
    {
     "data": {
      "text/plain": [
       "'Js oadlv oref'"
      ]
     },
     "execution_count": 19,
     "metadata": {},
     "output_type": "execute_result"
    }
   ],
   "source": [
    "varstr[::2]"
   ]
  },
  {
   "cell_type": "raw",
   "metadata": {},
   "source": []
  },
  {
   "cell_type": "code",
   "execution_count": 20,
   "metadata": {
    "collapsed": false
   },
   "outputs": [
    {
     "data": {
      "text/plain": [
       "'!flesruoy evol dna og tsuJ'"
      ]
     },
     "execution_count": 20,
     "metadata": {},
     "output_type": "execute_result"
    }
   ],
   "source": [
    "varstr[::-1]"
   ]
  },
  {
   "cell_type": "code",
   "execution_count": 21,
   "metadata": {
    "collapsed": false
   },
   "outputs": [
    {
     "data": {
      "text/plain": [
       "'Just go and love yourself!Just go and love yourself!Just go and love yourself!Just go and love yourself!Just go and love yourself!Just go and love yourself!Just go and love yourself!Just go and love yourself!Just go and love yourself!Just go and love yourself!'"
      ]
     },
     "execution_count": 21,
     "metadata": {},
     "output_type": "execute_result"
    }
   ],
   "source": [
    "varstr * 10"
   ]
  },
  {
   "cell_type": "code",
   "execution_count": 22,
   "metadata": {
    "collapsed": false
   },
   "outputs": [
    {
     "data": {
      "text/plain": [
       "<function str.expandtabs>"
      ]
     },
     "execution_count": 22,
     "metadata": {},
     "output_type": "execute_result"
    }
   ],
   "source": [
    "varstr.expandtabs"
   ]
  },
  {
   "cell_type": "code",
   "execution_count": 23,
   "metadata": {
    "collapsed": false
   },
   "outputs": [
    {
     "data": {
      "text/plain": [
       "'Just go and love yourself!'"
      ]
     },
     "execution_count": 23,
     "metadata": {},
     "output_type": "execute_result"
    }
   ],
   "source": [
    "varstr.expandtabs(5)"
   ]
  },
  {
   "cell_type": "code",
   "execution_count": 24,
   "metadata": {
    "collapsed": false
   },
   "outputs": [
    {
     "name": "stdout",
     "output_type": "stream",
     "text": [
      "Hello 20 i am 25\n"
     ]
    }
   ],
   "source": [
    "print (('Hello {} i am {}').format(20, 25))"
   ]
  },
  {
   "cell_type": "code",
   "execution_count": 25,
   "metadata": {
    "collapsed": false
   },
   "outputs": [
    {
     "name": "stdout",
     "output_type": "stream",
     "text": [
      "Hello world i am 25\n"
     ]
    }
   ],
   "source": [
    "print (('Hello {} i am {}').format('world', 25))"
   ]
  },
  {
   "cell_type": "code",
   "execution_count": 26,
   "metadata": {
    "collapsed": true
   },
   "outputs": [],
   "source": [
    "my_list = [1,2,3]"
   ]
  },
  {
   "cell_type": "code",
   "execution_count": 27,
   "metadata": {
    "collapsed": false
   },
   "outputs": [
    {
     "data": {
      "text/plain": [
       "[1, 2, 3]"
      ]
     },
     "execution_count": 27,
     "metadata": {},
     "output_type": "execute_result"
    }
   ],
   "source": [
    "my_list"
   ]
  },
  {
   "cell_type": "code",
   "execution_count": 28,
   "metadata": {
    "collapsed": false
   },
   "outputs": [
    {
     "data": {
      "text/plain": [
       "5"
      ]
     },
     "execution_count": 28,
     "metadata": {},
     "output_type": "execute_result"
    }
   ],
   "source": [
    "len('udemy')"
   ]
  },
  {
   "cell_type": "code",
   "execution_count": 29,
   "metadata": {
    "collapsed": true
   },
   "outputs": [],
   "source": [
    "my_ls1 = range(1, 20)\n",
    "lstcomp = [x**2 for x in my_ls1]"
   ]
  },
  {
   "cell_type": "code",
   "execution_count": 30,
   "metadata": {
    "collapsed": false
   },
   "outputs": [
    {
     "name": "stdout",
     "output_type": "stream",
     "text": [
      "[1, 4, 9, 16, 25, 36, 49, 64, 81, 100, 121, 144, 169, 196, 225, 256, 289, 324, 361]\n"
     ]
    }
   ],
   "source": [
    "print (lstcomp)"
   ]
  },
  {
   "cell_type": "code",
   "execution_count": 31,
   "metadata": {
    "collapsed": false
   },
   "outputs": [
    {
     "name": "stdout",
     "output_type": "stream",
     "text": [
      "{'Name': 'Messi', 'Nationality': 'Argentina', 'Age': 28}\n"
     ]
    }
   ],
   "source": [
    "soccer = {}\n",
    "soccer['Name'] = 'Messi'\n",
    "soccer['Nationality'] = 'Argentina'\n",
    "soccer['Age'] = 28\n",
    "print (soccer)\n"
   ]
  },
  {
   "cell_type": "code",
   "execution_count": 32,
   "metadata": {
    "collapsed": false
   },
   "outputs": [
    {
     "data": {
      "text/plain": [
       "dict_items([('Name', 'Messi'), ('Nationality', 'Argentina'), ('Age', 28)])"
      ]
     },
     "execution_count": 32,
     "metadata": {},
     "output_type": "execute_result"
    }
   ],
   "source": [
    "soccer.keys()\n",
    "soccer.values()\n",
    "soccer.items()"
   ]
  },
  {
   "cell_type": "code",
   "execution_count": 33,
   "metadata": {
    "collapsed": false
   },
   "outputs": [
    {
     "name": "stdout",
     "output_type": "stream",
     "text": [
      "dict_keys(['Name', 'Nationality', 'Age'])\n"
     ]
    }
   ],
   "source": [
    "print (soccer.keys())"
   ]
  },
  {
   "cell_type": "code",
   "execution_count": 34,
   "metadata": {
    "collapsed": true
   },
   "outputs": [],
   "source": [
    "x =set()\n",
    "x.add(1)"
   ]
  },
  {
   "cell_type": "code",
   "execution_count": 35,
   "metadata": {
    "collapsed": false
   },
   "outputs": [
    {
     "name": "stdout",
     "output_type": "stream",
     "text": [
      "{1}\n"
     ]
    }
   ],
   "source": [
    "print(x)"
   ]
  },
  {
   "cell_type": "code",
   "execution_count": 36,
   "metadata": {
    "collapsed": false
   },
   "outputs": [
    {
     "name": "stdout",
     "output_type": "stream",
     "text": [
      "{1, 2}\n"
     ]
    }
   ],
   "source": [
    "x.add(2)\n",
    "print(x)"
   ]
  },
  {
   "cell_type": "code",
   "execution_count": 37,
   "metadata": {
    "collapsed": false
   },
   "outputs": [
    {
     "data": {
      "text/plain": [
       "{1, 2}"
      ]
     },
     "execution_count": 37,
     "metadata": {},
     "output_type": "execute_result"
    }
   ],
   "source": [
    "x"
   ]
  },
  {
   "cell_type": "code",
   "execution_count": 38,
   "metadata": {
    "collapsed": false
   },
   "outputs": [
    {
     "name": "stdout",
     "output_type": "stream",
     "text": [
      "2 ionon\n",
      "2 aaccaaddbb\n",
      "6 aalfalf\n",
      "14 eewweugweougewoih\n",
      "12 amicroscopicsilicovolcanoconiosispneumonoultr\n"
     ]
    }
   ],
   "source": [
    "words = '''onion\n",
    "bbaaccaadd\n",
    "alfalfa\n",
    "weugweougewoiheew\n",
    "pneumonoultramicroscopicsilicovolcanoconiosis'''.split('\\n')\n",
    "\n",
    "for w in words:\n",
    "    res = min([(w[i:]+w[:i], i) for i in range(1, len(w))])\n",
    "    print(res[1], res[0])"
   ]
  },
  {
   "cell_type": "code",
   "execution_count": 39,
   "metadata": {
    "collapsed": false
   },
   "outputs": [
    {
     "name": "stdout",
     "output_type": "stream",
     "text": [
      "first\n",
      "name\n",
      "last\n",
      "surname\n",
      "e mail\n",
      "@illuminati.com\n"
     ]
    }
   ],
   "source": [
    "dict1 = {'first': 'name', 'last': 'surname', 'e mail': '@illuminati.com'}\n",
    "for i,x in dict1.items():\n",
    "    print (i)\n",
    "    print (x)"
   ]
  },
  {
   "cell_type": "code",
   "execution_count": 40,
   "metadata": {
    "collapsed": false
   },
   "outputs": [
    {
     "name": "stdout",
     "output_type": "stream",
     "text": [
      "dict_keys(['first', 'last', 'e mail'])\n",
      "dict_values(['name', 'surname', '@illuminati.com'])\n",
      "dict_keys(['first', 'last', 'e mail'])\n",
      "dict_values(['name', 'surname', '@illuminati.com'])\n",
      "dict_keys(['first', 'last', 'e mail'])\n",
      "dict_values(['name', 'surname', '@illuminati.com'])\n"
     ]
    }
   ],
   "source": [
    "for items in dict1:\n",
    "    print (dict1.keys())\n",
    "    print (dict1.values())"
   ]
  },
  {
   "cell_type": "code",
   "execution_count": 41,
   "metadata": {
    "collapsed": false
   },
   "outputs": [
    {
     "name": "stdout",
     "output_type": "stream",
     "text": [
      "('t1', 3)\n",
      "('t2', 4)\n",
      "('t5', 6)\n"
     ]
    }
   ],
   "source": [
    "l = [('t1', 3), ('t2', 4), ('t5', 6)]\n",
    "for tup in l:\n",
    "    print (tup)"
   ]
  },
  {
   "cell_type": "code",
   "execution_count": 42,
   "metadata": {
    "collapsed": false
   },
   "outputs": [
    {
     "name": "stdout",
     "output_type": "stream",
     "text": [
      "t1\n",
      "3\n",
      "t2\n",
      "4\n",
      "t5\n",
      "6\n"
     ]
    }
   ],
   "source": [
    "for (x,y) in l:\n",
    "    print (x)\n",
    "    print (y)"
   ]
  },
  {
   "cell_type": "code",
   "execution_count": 43,
   "metadata": {
    "collapsed": false
   },
   "outputs": [
    {
     "name": "stdout",
     "output_type": "stream",
     "text": [
      "Hello\n",
      "Hello\n",
      "Hello\n",
      "Hello\n",
      "Hello\n",
      "Hello\n",
      "Hello\n",
      "Hello\n",
      "Hello\n",
      "Hello\n"
     ]
    }
   ],
   "source": [
    "x = 0\n",
    "\n",
    "while x < 10:\n",
    "    print ('Hello')\n",
    "    x+=1"
   ]
  },
  {
   "cell_type": "code",
   "execution_count": 44,
   "metadata": {
    "collapsed": false
   },
   "outputs": [
    {
     "name": "stdout",
     "output_type": "stream",
     "text": [
      "d\n",
      "['w', 'o', 'r', 'd']\n"
     ]
    }
   ],
   "source": [
    "l = []\n",
    "\n",
    "for letter in 'word':\n",
    "    l.append(letter)\n",
    "print (letter)\n",
    "print (l)"
   ]
  },
  {
   "cell_type": "code",
   "execution_count": 45,
   "metadata": {
    "collapsed": true
   },
   "outputs": [],
   "source": [
    "l = [letter for letter in 'word']"
   ]
  },
  {
   "cell_type": "code",
   "execution_count": 46,
   "metadata": {
    "collapsed": false
   },
   "outputs": [
    {
     "ename": "SyntaxError",
     "evalue": "invalid syntax (<ipython-input-46-a7b39ac7b761>, line 1)",
     "output_type": "error",
     "traceback": [
      "\u001b[0;36m  File \u001b[0;32m\"<ipython-input-46-a7b39ac7b761>\"\u001b[0;36m, line \u001b[0;32m1\u001b[0m\n\u001b[0;31m    l}\u001b[0m\n\u001b[0m     ^\u001b[0m\n\u001b[0;31mSyntaxError\u001b[0m\u001b[0;31m:\u001b[0m invalid syntax\n"
     ]
    }
   ],
   "source": [
    "l}"
   ]
  },
  {
   "cell_type": "code",
   "execution_count": null,
   "metadata": {
    "collapsed": false
   },
   "outputs": [],
   "source": [
    "l"
   ]
  },
  {
   "cell_type": "code",
   "execution_count": null,
   "metadata": {
    "collapsed": false
   },
   "outputs": [],
   "source": [
    "lst = [x**2 for x in xrange(1,30)]"
   ]
  },
  {
   "cell_type": "code",
   "execution_count": null,
   "metadata": {
    "collapsed": true
   },
   "outputs": [],
   "source": [
    "lst"
   ]
  },
  {
   "cell_type": "code",
   "execution_count": null,
   "metadata": {
    "collapsed": false
   },
   "outputs": [],
   "source": [
    "lst = [x**2 for x in range(1,30)]\n",
    "lst"
   ]
  },
  {
   "cell_type": "code",
   "execution_count": null,
   "metadata": {
    "collapsed": true
   },
   "outputs": [],
   "source": [
    "lst = [number for number in range(11) if number % 2 == 0]"
   ]
  },
  {
   "cell_type": "code",
   "execution_count": null,
   "metadata": {
    "collapsed": false
   },
   "outputs": [],
   "source": [
    "lst"
   ]
  },
  {
   "cell_type": "code",
   "execution_count": null,
   "metadata": {
    "collapsed": true
   },
   "outputs": [],
   "source": [
    "celcius = [0, 10, 20, 34.8]\n",
    "\n",
    "\n",
    "fahrenheit =  [(temp * (9/5) + 32) for temp in celcius]\n"
   ]
  },
  {
   "cell_type": "code",
   "execution_count": null,
   "metadata": {
    "collapsed": false
   },
   "outputs": [],
   "source": [
    "fahrenheit"
   ]
  },
  {
   "cell_type": "code",
   "execution_count": null,
   "metadata": {
    "collapsed": false
   },
   "outputs": [],
   "source": [
    "lst = [x**3 for x in [x**2 for x in range(20)]]"
   ]
  },
  {
   "cell_type": "code",
   "execution_count": null,
   "metadata": {
    "collapsed": false
   },
   "outputs": [],
   "source": [
    "lst"
   ]
  },
  {
   "cell_type": "code",
   "execution_count": null,
   "metadata": {
    "collapsed": false
   },
   "outputs": [],
   "source": [
    "class soccer(object):\n",
    "    def __init__(self, name, rank):\n",
    "        self.name = name\n",
    "        self.rank = rank\n",
    "        \n",
    "    def score(self, goal, assist):\n",
    "        self.goal = goal\n",
    "        self.assist = assist        \n",
    "\n",
    "messi = soccer('lionel', 1)\n",
    "ronaldo = soccer('cristiano', 2)\n",
    "messi.score = (2, 3)\n",
    "print (messi.name)\n",
    "print (messi.score)\n",
    "\n"
   ]
  },
  {
   "cell_type": "code",
   "execution_count": null,
   "metadata": {
    "collapsed": true
   },
   "outputs": [],
   "source": []
  },
  {
   "cell_type": "code",
   "execution_count": 3,
   "metadata": {
    "collapsed": false
   },
   "outputs": [
    {
     "name": "stdout",
     "output_type": "stream",
     "text": [
      "Is prime!\n",
      "None\n"
     ]
    }
   ],
   "source": [
    "def is_prime(number):\n",
    "    for i in range(2, number):\n",
    "        if number % i == 0:\n",
    "            print(\"not prime\")\n",
    "            break\n",
    "    else:\n",
    "        print (\"Is prime!\")\n",
    "        \n",
    "print (is_prime(17))\n",
    "            "
   ]
  },
  {
   "cell_type": "code",
   "execution_count": 49,
   "metadata": {
    "collapsed": false
   },
   "outputs": [
    {
     "data": {
      "text/plain": [
       "138"
      ]
     },
     "execution_count": 49,
     "metadata": {},
     "output_type": "execute_result"
    }
   ],
   "source": [
    "check_length = lambda x:len(x)\n",
    "check_length('PHP is a sever or backened type scripting used for small web development but for big development in web its good to use ruby, java, python')\n",
    "\n"
   ]
  },
  {
   "cell_type": "code",
   "execution_count": 1,
   "metadata": {
    "collapsed": false,
    "scrolled": true
   },
   "outputs": [
    {
     "name": "stdout",
     "output_type": "stream",
     "text": [
      "3.141592653589793\n",
      "2.718281828459045\n",
      "====math====\n",
      "5.0\n",
      "0.9999996829318346\n"
     ]
    }
   ],
   "source": [
    "import math\n",
    "#importing math module\n",
    "print (math.pi)\n",
    "print (math.e)\n",
    "print (\"====math====\")\n",
    "print (math.sqrt(25))\n",
    "print (math.sin(3.14/2))\n"
   ]
  },
  {
   "cell_type": "code",
   "execution_count": null,
   "metadata": {
    "collapsed": false
   },
   "outputs": [],
   "source": [
    "def nextDay(year, month, day):\n",
    "    if day < 30:\n",
    "        day = day + 1\n",
    "        return (year, month, day)\n",
    "    else:\n",
    "        if month == 12:\n",
    "            year += 1\n",
    "            return (year, 1, 1)\n",
    "        else:\n",
    "            return (year, month + 1, day)\n",
    "        \n",
    "def daysInBefore(year1, month1, day1, year2, month2, day2):\n",
    "    if year1 > year2:\n",
    "        return True\n",
    "    if year1 == year2:\n",
    "        if month1  > month2:\n",
    "            return True\n",
    "        if month1 == month2:\n",
    "            if day1 > day2:\n",
    "                return True\n",
    "          \n",
    "    else:\n",
    "        return false\n",
    "\n",
    "def daysBetweenDays(year1, month1, day1, year2, month2, day2):\n",
    "    result = 0\n",
    "    while daysInBefore(year1, month1, day1, year2, month2, day2):\n",
    "        year1, month1, day1 = nextDay(year2, month2, day2)\n",
    "        result+=1  \n",
    "    return result        \n",
    " \n",
    "\n",
    "\n",
    "\n",
    "\n",
    "\n",
    "nextDay(2000, 1, 24)  \n",
    "print(daysBetweenDays(2000,11,29,1999, 10, 2))\n",
    "\n",
    "\n",
    "\n",
    "        \n",
    "        \n",
    "    "
   ]
  },
  {
   "cell_type": "code",
   "execution_count": 70,
   "metadata": {
    "collapsed": false
   },
   "outputs": [
    {
     "name": "stdout",
     "output_type": "stream",
     "text": [
      "28\n",
      "31\n"
     ]
    }
   ],
   "source": [
    "\"\"\" define a procedure, how_many_days, that takes as input a number representing a month, and returns the number of days in that month.\"\"\"\n",
    "\n",
    "\n",
    "\n",
    "days_in_month = [31,28,31,30,31,30,31,31,30,31,30,31]\n",
    "\n",
    "month_list = [1, 3, 5, 7, 8, 10, 12]\n",
    "\n",
    "def how_many_days(month):\n",
    "    \n",
    "        if month in month_list:\n",
    "            return 31\n",
    "        elif month == 2:\n",
    "            return 28\n",
    "        else:\n",
    "            return 30\n",
    "print (how_many_days(2))\n",
    "print (how_many_days(8))\n",
    "\n",
    "\n",
    "def how_many_days(month):\n",
    "    return days_in_month[month-1]\n",
    "        "
   ]
  },
  {
   "cell_type": "code",
   "execution_count": 4,
   "metadata": {
    "collapsed": false
   },
   "outputs": [
    {
     "data": {
      "text/plain": [
       "[32.0, 59.0, 86.0, 118.4]"
      ]
     },
     "execution_count": 4,
     "metadata": {},
     "output_type": "execute_result"
    }
   ],
   "source": [
    "temp = [0, 15, 30, 48]\n",
    "list(map(lambda T: (9/5)*T + 32, temp))\n",
    "\n",
    "\n"
   ]
  },
  {
   "cell_type": "code",
   "execution_count": 7,
   "metadata": {
    "collapsed": false
   },
   "outputs": [
    {
     "data": {
      "text/plain": [
       "[1, 4, 9]"
      ]
     },
     "execution_count": 7,
     "metadata": {},
     "output_type": "execute_result"
    }
   ],
   "source": [
    "a = [1,2,3 ]\n",
    "b = [4,5,6]\n",
    "c = [7, 8, 9]\n",
    "\n",
    "list(map(lambda x : x ** 2, a))\n"
   ]
  },
  {
   "cell_type": "code",
   "execution_count": 8,
   "metadata": {
    "collapsed": false
   },
   "outputs": [
    {
     "data": {
      "text/plain": [
       "[12, 15, 18]"
      ]
     },
     "execution_count": 8,
     "metadata": {},
     "output_type": "execute_result"
    }
   ],
   "source": [
    "list(map(lambda x, y, z : x + y + z, a, b, c))"
   ]
  },
  {
   "cell_type": "code",
   "execution_count": 18,
   "metadata": {
    "collapsed": false
   },
   "outputs": [],
   "source": [
    "lst = [13,5,6, 7,8,346,36,785,85]\n",
    "\n",
    "max_find = lambda a, b: a if (a > b) else b\n",
    "\n",
    "from functools import reduce\n"
   ]
  },
  {
   "cell_type": "code",
   "execution_count": 14,
   "metadata": {
    "collapsed": false
   },
   "outputs": [
    {
     "data": {
      "text/plain": [
       "90"
      ]
     },
     "execution_count": 14,
     "metadata": {},
     "output_type": "execute_result"
    }
   ],
   "source": [
    "max_find(90, 10)"
   ]
  },
  {
   "cell_type": "code",
   "execution_count": 20,
   "metadata": {
    "collapsed": false
   },
   "outputs": [
    {
     "data": {
      "text/plain": [
       "785"
      ]
     },
     "execution_count": 20,
     "metadata": {},
     "output_type": "execute_result"
    }
   ],
   "source": [
    "reduce(max_find, lst)"
   ]
  },
  {
   "cell_type": "code",
   "execution_count": 22,
   "metadata": {
    "collapsed": false
   },
   "outputs": [
    {
     "data": {
      "text/plain": [
       "[2, 4, 6, 8]"
      ]
     },
     "execution_count": 22,
     "metadata": {},
     "output_type": "execute_result"
    }
   ],
   "source": [
    "lst1 = [1,2,3,4,5,6,7,8,9]\n",
    "list(filter(lambda num: num%2 == 0, lst1))"
   ]
  },
  {
   "cell_type": "code",
   "execution_count": 23,
   "metadata": {
    "collapsed": false
   },
   "outputs": [
    {
     "data": {
      "text/plain": [
       "[4, 5, 6, 7, 8, 9]"
      ]
     },
     "execution_count": 23,
     "metadata": {},
     "output_type": "execute_result"
    }
   ],
   "source": [
    "list(filter(lambda num: num > 3, lst1))"
   ]
  },
  {
   "cell_type": "code",
   "execution_count": 24,
   "metadata": {
    "collapsed": false
   },
   "outputs": [
    {
     "data": {
      "text/plain": [
       "[(1, 4), (2, 5), (3, 6)]"
      ]
     },
     "execution_count": 24,
     "metadata": {},
     "output_type": "execute_result"
    }
   ],
   "source": [
    "x = [1,2,3]\n",
    "y = [4,5,6]\n",
    "\n",
    "\n",
    "list(zip(x,y))"
   ]
  },
  {
   "cell_type": "code",
   "execution_count": 28,
   "metadata": {
    "collapsed": false
   },
   "outputs": [
    {
     "data": {
      "text/plain": [
       "[(1, 2), (2, 3), (3, 10), (4, 1), (5, 1)]"
      ]
     },
     "execution_count": 28,
     "metadata": {},
     "output_type": "execute_result"
    }
   ],
   "source": [
    "a = [1,2,3,4,5]\n",
    "b = [2,3,10,1,1]\n",
    "\n",
    "list(zip(a,b))"
   ]
  },
  {
   "cell_type": "code",
   "execution_count": 30,
   "metadata": {
    "collapsed": false
   },
   "outputs": [
    {
     "name": "stdout",
     "output_type": "stream",
     "text": [
      "2\n",
      "3\n",
      "10\n",
      "4\n",
      "5\n"
     ]
    }
   ],
   "source": [
    "for pair in zip(a, b):\n",
    "    print (max(pair))"
   ]
  },
  {
   "cell_type": "code",
   "execution_count": 31,
   "metadata": {
    "collapsed": false
   },
   "outputs": [
    {
     "data": {
      "text/plain": [
       "[2, 3, 10, 4, 5]"
      ]
     },
     "execution_count": 31,
     "metadata": {},
     "output_type": "execute_result"
    }
   ],
   "source": [
    "list(maplambda pair:max(pair), zip(a, b)))"
   ]
  },
  {
   "cell_type": "code",
   "execution_count": 32,
   "metadata": {
    "collapsed": false
   },
   "outputs": [
    {
     "data": {
      "text/plain": [
       "[('a', 'c'), ('b', 'd')]"
      ]
     },
     "execution_count": 32,
     "metadata": {},
     "output_type": "execute_result"
    }
   ],
   "source": [
    "dict1={'a':1,'b':2}\n",
    "dict2 = {'c':3, 'd':4}\n",
    "\n",
    "list(zip(dict1, dict2))"
   ]
  },
  {
   "cell_type": "code",
   "execution_count": 33,
   "metadata": {
    "collapsed": false
   },
   "outputs": [
    {
     "data": {
      "text/plain": [
       "[('c', 1), ('d', 2)]"
      ]
     },
     "execution_count": 33,
     "metadata": {},
     "output_type": "execute_result"
    }
   ],
   "source": [
    "list(zip(dict2, dict1.values()))"
   ]
  },
  {
   "cell_type": "code",
   "execution_count": 40,
   "metadata": {
    "collapsed": false
   },
   "outputs": [
    {
     "name": "stdout",
     "output_type": "stream",
     "text": [
      "a\n",
      "b\n"
     ]
    }
   ],
   "source": [
    "l = ['a','b' ,'c']\n",
    "for count, item in enumerate(l):\n",
    "    if count >= 2:\n",
    "        break\n",
    "    else:\n",
    "        print (item)"
   ]
  },
  {
   "cell_type": "code",
   "execution_count": 42,
   "metadata": {
    "collapsed": false
   },
   "outputs": [
    {
     "name": "stdout",
     "output_type": "stream",
     "text": [
      "0 a\n",
      "1 b\n",
      "2 c\n"
     ]
    }
   ],
   "source": [
    "for i, item in enumerate(l):\n",
    "    print (i, item)"
   ]
  },
  {
   "cell_type": "code",
   "execution_count": 43,
   "metadata": {
    "collapsed": false
   },
   "outputs": [
    {
     "data": {
      "text/plain": [
       "(2+3j)"
      ]
     },
     "execution_count": 43,
     "metadata": {},
     "output_type": "execute_result"
    }
   ],
   "source": [
    "complex(2, 3)"
   ]
  },
  {
   "cell_type": "code",
   "execution_count": 44,
   "metadata": {
    "collapsed": false
   },
   "outputs": [
    {
     "data": {
      "text/plain": [
       "(2+10j)"
      ]
     },
     "execution_count": 44,
     "metadata": {},
     "output_type": "execute_result"
    }
   ],
   "source": [
    "complex(2 + 10j)"
   ]
  },
  {
   "cell_type": "code",
   "execution_count": 45,
   "metadata": {
    "collapsed": false
   },
   "outputs": [
    {
     "data": {
      "text/plain": [
       "'write a procedure that takes a list of numbers and returns the greatest number in the list'"
      ]
     },
     "execution_count": 45,
     "metadata": {},
     "output_type": "execute_result"
    }
   ],
   "source": [
    "\"\"\"write a procedure that takes a list of numbers and returns the greatest number in the list\"\"\""
   ]
  },
  {
   "cell_type": "code",
   "execution_count": 6,
   "metadata": {
    "collapsed": false
   },
   "outputs": [
    {
     "name": "stdout",
     "output_type": "stream",
     "text": [
      "1025\n"
     ]
    }
   ],
   "source": [
    "def greatest(list_of_numbers):\n",
    "    big = 0\n",
    "    for num in list_of_numbers:\n",
    "        if num > big:\n",
    "            big = num\n",
    "    return big\n",
    "    \n",
    "print (greatest([2,5,6,3,6,34,342,2,4,533,34,1025]))    "
   ]
  },
  {
   "cell_type": "code",
   "execution_count": 9,
   "metadata": {
    "collapsed": true
   },
   "outputs": [],
   "source": [
    "def fibon(n):\n",
    "    a = 1\n",
    "    b = 1\n",
    "    for i in range(n):\n",
    "        yield a\n",
    "        a, b = b, a + b"
   ]
  },
  {
   "cell_type": "code",
   "execution_count": 10,
   "metadata": {
    "collapsed": false
   },
   "outputs": [
    {
     "name": "stdout",
     "output_type": "stream",
     "text": [
      "1\n",
      "1\n",
      "2\n",
      "3\n",
      "5\n",
      "8\n",
      "13\n",
      "21\n",
      "34\n",
      "55\n"
     ]
    }
   ],
   "source": [
    "for num in fibon(10):\n",
    "    print (num)"
   ]
  },
  {
   "cell_type": "code",
   "execution_count": 13,
   "metadata": {
    "collapsed": false
   },
   "outputs": [
    {
     "data": {
      "text/plain": [
       "Counter({1: 6, 2: 8, 3: 5, 4: 4, 5: 6, 6: 3, 8: 3})"
      ]
     },
     "execution_count": 13,
     "metadata": {},
     "output_type": "execute_result"
    }
   ],
   "source": [
    "from collections import Counter #Note: 'C' is in uppercase for counter\n",
    "\n",
    "lst = [1,2,2,2,1,1,1,2,2,3,2,3,3,1,1,4,4,5,5,6,6,5,5,5,5,4,3,2,6,8,2,3,4,8,8]\n",
    "\n",
    "Counter(lst)"
   ]
  },
  {
   "cell_type": "code",
   "execution_count": 17,
   "metadata": {
    "collapsed": false
   },
   "outputs": [],
   "source": [
    "words = \"hhhhfhfhhsksfklksfnsjhnnnncaiiweweeelqllrmlrcmllllaaaaeejnenaacn\""
   ]
  },
  {
   "cell_type": "code",
   "execution_count": 19,
   "metadata": {
    "collapsed": false
   },
   "outputs": [
    {
     "data": {
      "text/plain": [
       "Counter({'a': 7,\n",
       "         'c': 3,\n",
       "         'e': 7,\n",
       "         'f': 4,\n",
       "         'h': 8,\n",
       "         'i': 2,\n",
       "         'j': 2,\n",
       "         'k': 3,\n",
       "         'l': 9,\n",
       "         'm': 2,\n",
       "         'n': 8,\n",
       "         'q': 1,\n",
       "         'r': 2,\n",
       "         's': 4,\n",
       "         'w': 2})"
      ]
     },
     "execution_count": 19,
     "metadata": {},
     "output_type": "execute_result"
    }
   ],
   "source": [
    "Counter(words)   #count number of words how many times in dict form."
   ]
  },
  {
   "cell_type": "code",
   "execution_count": 20,
   "metadata": {
    "collapsed": false
   },
   "outputs": [
    {
     "data": {
      "text/plain": [
       "[('l', 9), ('h', 8), ('n', 8)]"
      ]
     },
     "execution_count": 20,
     "metadata": {},
     "output_type": "execute_result"
    }
   ],
   "source": [
    "Counter(words).most_common(3)  #gives 3 letters occurs most times"
   ]
  },
  {
   "cell_type": "code",
   "execution_count": 23,
   "metadata": {
    "collapsed": false
   },
   "outputs": [
    {
     "data": {
      "text/plain": [
       "64"
      ]
     },
     "execution_count": 23,
     "metadata": {},
     "output_type": "execute_result"
    }
   ],
   "source": [
    "sum(Counter(words).values())"
   ]
  },
  {
   "cell_type": "code",
   "execution_count": 24,
   "metadata": {
    "collapsed": false
   },
   "outputs": [
    {
     "data": {
      "text/plain": [
       "['h', 'f', 's', 'k', 'l', 'n', 'j', 'c', 'a', 'i', 'w', 'e', 'q', 'r', 'm']"
      ]
     },
     "execution_count": 24,
     "metadata": {},
     "output_type": "execute_result"
    }
   ],
   "source": [
    "list(Counter(words))"
   ]
  },
  {
   "cell_type": "code",
   "execution_count": 25,
   "metadata": {
    "collapsed": false
   },
   "outputs": [
    {
     "data": {
      "text/plain": [
       "{'a', 'c', 'e', 'f', 'h', 'i', 'j', 'k', 'l', 'm', 'n', 'q', 'r', 's', 'w'}"
      ]
     },
     "execution_count": 25,
     "metadata": {},
     "output_type": "execute_result"
    }
   ],
   "source": [
    "set(Counter(words))"
   ]
  },
  {
   "cell_type": "code",
   "execution_count": 27,
   "metadata": {
    "collapsed": true
   },
   "outputs": [],
   "source": [
    "from collections import defaultdict\n",
    "\n",
    "d = defaultdict(object)"
   ]
  },
  {
   "cell_type": "code",
   "execution_count": 29,
   "metadata": {
    "collapsed": false
   },
   "outputs": [
    {
     "data": {
      "text/plain": [
       "<object at 0x3c0e0e8>"
      ]
     },
     "execution_count": 29,
     "metadata": {},
     "output_type": "execute_result"
    }
   ],
   "source": [
    "d['one']"
   ]
  },
  {
   "cell_type": "code",
   "execution_count": 37,
   "metadata": {
    "collapsed": false
   },
   "outputs": [],
   "source": [
    "d = defaultdict(lambda : 4)"
   ]
  },
  {
   "cell_type": "code",
   "execution_count": 38,
   "metadata": {
    "collapsed": false
   },
   "outputs": [
    {
     "data": {
      "text/plain": [
       "4"
      ]
     },
     "execution_count": 38,
     "metadata": {},
     "output_type": "execute_result"
    }
   ],
   "source": [
    "d['x']"
   ]
  },
  {
   "cell_type": "code",
   "execution_count": 39,
   "metadata": {
    "collapsed": true
   },
   "outputs": [],
   "source": [
    "d['y'] = 4"
   ]
  },
  {
   "cell_type": "code",
   "execution_count": 40,
   "metadata": {
    "collapsed": false
   },
   "outputs": [
    {
     "name": "stdout",
     "output_type": "stream",
     "text": [
      "x\n",
      "y\n"
     ]
    }
   ],
   "source": [
    "for item in d:\n",
    "    print (item)"
   ]
  },
  {
   "cell_type": "code",
   "execution_count": 45,
   "metadata": {
    "collapsed": false
   },
   "outputs": [],
   "source": [
    "from collections import OrderedDict\n",
    "\n",
    "\n",
    "\n",
    "d = OrderedDict()  #keep the dictionary keys, values pair in order.\n",
    "\n",
    "d['a'] = 1\n",
    "d[\"b\"] = 2\n",
    "d[\"c\"] = 3\n",
    "d[\"d\"] = 4\n",
    "\n"
   ]
  },
  {
   "cell_type": "code",
   "execution_count": 47,
   "metadata": {
    "collapsed": false
   },
   "outputs": [
    {
     "name": "stdout",
     "output_type": "stream",
     "text": [
      "a 1\n",
      "b 2\n",
      "c 3\n",
      "d 4\n"
     ]
    }
   ],
   "source": [
    "for key,value in d.items():\n",
    "    print (key,value)"
   ]
  },
  {
   "cell_type": "code",
   "execution_count": 51,
   "metadata": {
    "collapsed": false
   },
   "outputs": [
    {
     "name": "stdout",
     "output_type": "stream",
     "text": [
      "True\n"
     ]
    }
   ],
   "source": [
    "d1 = {}\n",
    "d1['a'] = 1\n",
    "d1[\"b\"] = 2\n",
    "\n",
    "d2 = {}\n",
    "\n",
    "d2[\"b\"] = 2\n",
    "d2[\"a\"] = 1\n",
    "\n",
    "print (d1 == d2)"
   ]
  },
  {
   "cell_type": "code",
   "execution_count": 52,
   "metadata": {
    "collapsed": false
   },
   "outputs": [
    {
     "name": "stdout",
     "output_type": "stream",
     "text": [
      "False\n"
     ]
    }
   ],
   "source": [
    "d1 = OrderedDict()\n",
    "d1[\"a\"] = 1\n",
    "d1[\"b\"] = 2\n",
    "\n",
    "d2 = OrderedDict()\n",
    "\n",
    "d2[\"b\"] = 2\n",
    "d2[\"a\"] = 1\n",
    "\n",
    "print (d1 == d2)"
   ]
  },
  {
   "cell_type": "code",
   "execution_count": 61,
   "metadata": {
    "collapsed": false
   },
   "outputs": [
    {
     "data": {
      "text/plain": [
       "Dog(breed='lab', name='henry1', age=6)"
      ]
     },
     "execution_count": 61,
     "metadata": {},
     "output_type": "execute_result"
    }
   ],
   "source": [
    "#namedtuple\n",
    "from collections import namedtuple\n",
    "\n",
    "Dog = namedtuple(\"Dog\", \"breed name age\")\n",
    "\n",
    "henry = Dog(breed = 'lab', name = 'henry1', age = 6)\n",
    "Ibiza = Dog(breed = 'pom', name = 'Ibi', age =7)\n",
    "\n",
    "\n",
    "henry\n"
   ]
  },
  {
   "cell_type": "code",
   "execution_count": 56,
   "metadata": {
    "collapsed": false
   },
   "outputs": [
    {
     "data": {
      "text/plain": [
       "'lab'"
      ]
     },
     "execution_count": 56,
     "metadata": {},
     "output_type": "execute_result"
    }
   ],
   "source": [
    "henry.breed"
   ]
  },
  {
   "cell_type": "code",
   "execution_count": 57,
   "metadata": {
    "collapsed": false
   },
   "outputs": [
    {
     "data": {
      "text/plain": [
       "6"
      ]
     },
     "execution_count": 57,
     "metadata": {},
     "output_type": "execute_result"
    }
   ],
   "source": [
    "henry.age"
   ]
  },
  {
   "cell_type": "code",
   "execution_count": 60,
   "metadata": {
    "collapsed": false
   },
   "outputs": [
    {
     "data": {
      "text/plain": [
       "Dog(breed='pom', name='Ibi', age=7)"
      ]
     },
     "execution_count": 60,
     "metadata": {},
     "output_type": "execute_result"
    }
   ],
   "source": [
    "Ibiza"
   ]
  },
  {
   "cell_type": "code",
   "execution_count": 63,
   "metadata": {
    "collapsed": false
   },
   "outputs": [
    {
     "data": {
      "text/plain": [
       "Bigbasket(fruit=['apple', 'orange', 'blueberry'], vegetable=['bottleguard', 'pumpkin', 'potato'], dryfruits=['cashewnut', 'wallnuts', 'almonds'])"
      ]
     },
     "execution_count": 63,
     "metadata": {},
     "output_type": "execute_result"
    }
   ],
   "source": [
    "Basket = namedtuple(\"Bigbasket\", \"fruit vegetable dryfruits\")\n",
    "\n",
    "sammy = Basket(fruit= [\"apple\", \"orange\", \"blueberry\"], vegetable = [\"bottleguard\", \"pumpkin\", \"potato\"], dryfruits = [\"cashewnut\", \"wallnuts\", \"almonds\"])\n",
    "\n",
    "sammy\n"
   ]
  },
  {
   "cell_type": "code",
   "execution_count": 64,
   "metadata": {
    "collapsed": false
   },
   "outputs": [
    {
     "data": {
      "text/plain": [
       "['cashewnut', 'wallnuts', 'almonds']"
      ]
     },
     "execution_count": 64,
     "metadata": {},
     "output_type": "execute_result"
    }
   ],
   "source": [
    "sammy.dryfruits"
   ]
  },
  {
   "cell_type": "code",
   "execution_count": 65,
   "metadata": {
    "collapsed": false
   },
   "outputs": [
    {
     "name": "stdout",
     "output_type": "stream",
     "text": [
      "cashewnut\n",
      "wallnuts\n",
      "almonds\n"
     ]
    }
   ],
   "source": [
    "for items in sammy.dryfruits:\n",
    "    print(items)"
   ]
  },
  {
   "cell_type": "code",
   "execution_count": 67,
   "metadata": {
    "collapsed": false
   },
   "outputs": [
    {
     "name": "stdout",
     "output_type": "stream",
     "text": [
      "2017-06-14 23:41:16.229565\n"
     ]
    }
   ],
   "source": [
    "import datetime\n",
    "\n",
    "d = datetime.datetime.now()\n",
    "\n",
    "print(d)"
   ]
  },
  {
   "cell_type": "code",
   "execution_count": 75,
   "metadata": {
    "collapsed": false
   },
   "outputs": [
    {
     "name": "stdout",
     "output_type": "stream",
     "text": [
      "--Return--\n",
      "> <ipython-input-75-f5ce77ae32a3>(8)<module>()->None\n",
      "-> pdb.set_trace()\n",
      "(Pdb) x\n",
      "[1, 2, 3, 4, 5]\n",
      "(Pdb) y\n",
      "4\n",
      "(Pdb) z\n",
      "5\n",
      "(Pdb) x+y\n",
      "*** TypeError: can only concatenate list (not \"int\") to list\n",
      "(Pdb) q\n"
     ]
    },
    {
     "ename": "BdbQuit",
     "evalue": "",
     "output_type": "error",
     "traceback": [
      "\u001b[0;31m---------------------------------------------------------------------------\u001b[0m",
      "\u001b[0;31mBdbQuit\u001b[0m                                   Traceback (most recent call last)",
      "\u001b[0;32m<ipython-input-75-f5ce77ae32a3>\u001b[0m in \u001b[0;36m<module>\u001b[0;34m()\u001b[0m\n\u001b[1;32m      6\u001b[0m \u001b[1;33m\u001b[0m\u001b[0m\n\u001b[1;32m      7\u001b[0m \u001b[1;33m\u001b[0m\u001b[0m\n\u001b[0;32m----> 8\u001b[0;31m \u001b[0mpdb\u001b[0m\u001b[1;33m.\u001b[0m\u001b[0mset_trace\u001b[0m\u001b[1;33m(\u001b[0m\u001b[1;33m)\u001b[0m\u001b[1;33m\u001b[0m\u001b[0m\n\u001b[0m\u001b[1;32m      9\u001b[0m \u001b[1;33m\u001b[0m\u001b[0m\n\u001b[1;32m     10\u001b[0m \u001b[0mresult1\u001b[0m \u001b[1;33m=\u001b[0m \u001b[0mx\u001b[0m\u001b[1;33m+\u001b[0m\u001b[0my\u001b[0m\u001b[1;33m\u001b[0m\u001b[0m\n",
      "\u001b[0;32mC:\\Users\\vivek vishwakarma\\Anaconda3\\lib\\bdb.py\u001b[0m in \u001b[0;36mtrace_dispatch\u001b[0;34m(self, frame, event, arg)\u001b[0m\n\u001b[1;32m     50\u001b[0m             \u001b[1;32mreturn\u001b[0m \u001b[0mself\u001b[0m\u001b[1;33m.\u001b[0m\u001b[0mdispatch_call\u001b[0m\u001b[1;33m(\u001b[0m\u001b[0mframe\u001b[0m\u001b[1;33m,\u001b[0m \u001b[0marg\u001b[0m\u001b[1;33m)\u001b[0m\u001b[1;33m\u001b[0m\u001b[0m\n\u001b[1;32m     51\u001b[0m         \u001b[1;32mif\u001b[0m \u001b[0mevent\u001b[0m \u001b[1;33m==\u001b[0m \u001b[1;34m'return'\u001b[0m\u001b[1;33m:\u001b[0m\u001b[1;33m\u001b[0m\u001b[0m\n\u001b[0;32m---> 52\u001b[0;31m             \u001b[1;32mreturn\u001b[0m \u001b[0mself\u001b[0m\u001b[1;33m.\u001b[0m\u001b[0mdispatch_return\u001b[0m\u001b[1;33m(\u001b[0m\u001b[0mframe\u001b[0m\u001b[1;33m,\u001b[0m \u001b[0marg\u001b[0m\u001b[1;33m)\u001b[0m\u001b[1;33m\u001b[0m\u001b[0m\n\u001b[0m\u001b[1;32m     53\u001b[0m         \u001b[1;32mif\u001b[0m \u001b[0mevent\u001b[0m \u001b[1;33m==\u001b[0m \u001b[1;34m'exception'\u001b[0m\u001b[1;33m:\u001b[0m\u001b[1;33m\u001b[0m\u001b[0m\n\u001b[1;32m     54\u001b[0m             \u001b[1;32mreturn\u001b[0m \u001b[0mself\u001b[0m\u001b[1;33m.\u001b[0m\u001b[0mdispatch_exception\u001b[0m\u001b[1;33m(\u001b[0m\u001b[0mframe\u001b[0m\u001b[1;33m,\u001b[0m \u001b[0marg\u001b[0m\u001b[1;33m)\u001b[0m\u001b[1;33m\u001b[0m\u001b[0m\n",
      "\u001b[0;32mC:\\Users\\vivek vishwakarma\\Anaconda3\\lib\\bdb.py\u001b[0m in \u001b[0;36mdispatch_return\u001b[0;34m(self, frame, arg)\u001b[0m\n\u001b[1;32m     94\u001b[0m             \u001b[1;32mfinally\u001b[0m\u001b[1;33m:\u001b[0m\u001b[1;33m\u001b[0m\u001b[0m\n\u001b[1;32m     95\u001b[0m                 \u001b[0mself\u001b[0m\u001b[1;33m.\u001b[0m\u001b[0mframe_returning\u001b[0m \u001b[1;33m=\u001b[0m \u001b[1;32mNone\u001b[0m\u001b[1;33m\u001b[0m\u001b[0m\n\u001b[0;32m---> 96\u001b[0;31m             \u001b[1;32mif\u001b[0m \u001b[0mself\u001b[0m\u001b[1;33m.\u001b[0m\u001b[0mquitting\u001b[0m\u001b[1;33m:\u001b[0m \u001b[1;32mraise\u001b[0m \u001b[0mBdbQuit\u001b[0m\u001b[1;33m\u001b[0m\u001b[0m\n\u001b[0m\u001b[1;32m     97\u001b[0m             \u001b[1;31m# The user issued a 'next' or 'until' command.\u001b[0m\u001b[1;33m\u001b[0m\u001b[1;33m\u001b[0m\u001b[0m\n\u001b[1;32m     98\u001b[0m             \u001b[1;32mif\u001b[0m \u001b[0mself\u001b[0m\u001b[1;33m.\u001b[0m\u001b[0mstopframe\u001b[0m \u001b[1;32mis\u001b[0m \u001b[0mframe\u001b[0m \u001b[1;32mand\u001b[0m \u001b[0mself\u001b[0m\u001b[1;33m.\u001b[0m\u001b[0mstoplineno\u001b[0m \u001b[1;33m!=\u001b[0m \u001b[1;33m-\u001b[0m\u001b[1;36m1\u001b[0m\u001b[1;33m:\u001b[0m\u001b[1;33m\u001b[0m\u001b[0m\n",
      "\u001b[0;31mBdbQuit\u001b[0m: "
     ]
    }
   ],
   "source": [
    "import pdb    #python debugger\n",
    "\n",
    "x = [1,2,3,4,5]\n",
    "y= 4\n",
    "z =5\n",
    "\n",
    "\n",
    "pdb.set_trace()\n",
    "\n",
    "result1 = x+y\n",
    "\n",
    "result2 = y + z\n",
    "\n",
    "print (result1)\n",
    "print (result2)\n",
    "\n"
   ]
  },
  {
   "cell_type": "code",
   "execution_count": 82,
   "metadata": {
    "collapsed": false
   },
   "outputs": [
    {
     "data": {
      "text/plain": [
       "0.37528451161005805"
      ]
     },
     "execution_count": 82,
     "metadata": {},
     "output_type": "execute_result"
    }
   ],
   "source": [
    "import timeit\n",
    "\n",
    "timeit.timeit('\"-\".join(str(n) for n in range(100))', number=10000)"
   ]
  },
  {
   "cell_type": "code",
   "execution_count": 83,
   "metadata": {
    "collapsed": false
   },
   "outputs": [
    {
     "data": {
      "text/plain": [
       "0.2543993150864061"
      ]
     },
     "execution_count": 83,
     "metadata": {},
     "output_type": "execute_result"
    }
   ],
   "source": [
    "timeit.timeit('\"-\".join(map(str, range(100)))', number=10000)"
   ]
  },
  {
   "cell_type": "code",
   "execution_count": 84,
   "metadata": {
    "collapsed": false
   },
   "outputs": [
    {
     "name": "stdout",
     "output_type": "stream",
     "text": [
      "10000 loops, best of 3: 31.2 µs per loop\n"
     ]
    }
   ],
   "source": [
    "%timeit \"-\".join([str(n) for n in range(100)])"
   ]
  },
  {
   "cell_type": "code",
   "execution_count": 85,
   "metadata": {
    "collapsed": false
   },
   "outputs": [
    {
     "name": "stdout",
     "output_type": "stream",
     "text": [
      "10000 loops, best of 3: 25 µs per loop\n"
     ]
    }
   ],
   "source": [
    "%timeit \"-\".join(map(str, range(100)))"
   ]
  },
  {
   "cell_type": "code",
   "execution_count": 1,
   "metadata": {
    "collapsed": true
   },
   "outputs": [],
   "source": [
    "import numpy\n"
   ]
  },
  {
   "cell_type": "code",
   "execution_count": 3,
   "metadata": {
    "collapsed": false
   },
   "outputs": [
    {
     "data": {
      "text/plain": [
       "'\\nNumPy\\n=====\\n\\nProvides\\n  1. An array object of arbitrary homogeneous items\\n  2. Fast mathematical operations over arrays\\n  3. Linear Algebra, Fourier Transforms, Random Number Generation\\n\\nHow to use the documentation\\n----------------------------\\nDocumentation is available in two forms: docstrings provided\\nwith the code, and a loose standing reference guide, available from\\n`the NumPy homepage <http://www.scipy.org>`_.\\n\\nWe recommend exploring the docstrings using\\n`IPython <http://ipython.scipy.org>`_, an advanced Python shell with\\nTAB-completion and introspection capabilities.  See below for further\\ninstructions.\\n\\nThe docstring examples assume that `numpy` has been imported as `np`::\\n\\n  >>> import numpy as np\\n\\nCode snippets are indicated by three greater-than signs::\\n\\n  >>> x = 42\\n  >>> x = x + 1\\n\\nUse the built-in ``help`` function to view a function\\'s docstring::\\n\\n  >>> help(np.sort)\\n  ... # doctest: +SKIP\\n\\nFor some objects, ``np.info(obj)`` may provide additional help.  This is\\nparticularly true if you see the line \"Help on ufunc object:\" at the top\\nof the help() page.  Ufuncs are implemented in C, not Python, for speed.\\nThe native Python help() does not know how to view their help, but our\\nnp.info() function does.\\n\\nTo search for documents containing a keyword, do::\\n\\n  >>> np.lookfor(\\'keyword\\')\\n  ... # doctest: +SKIP\\n\\nGeneral-purpose documents like a glossary and help on the basic concepts\\nof numpy are available under the ``doc`` sub-module::\\n\\n  >>> from numpy import doc\\n  >>> help(doc)\\n  ... # doctest: +SKIP\\n\\nAvailable subpackages\\n---------------------\\ndoc\\n    Topical documentation on broadcasting, indexing, etc.\\nlib\\n    Basic functions used by several sub-packages.\\nrandom\\n    Core Random Tools\\nlinalg\\n    Core Linear Algebra Tools\\nfft\\n    Core FFT routines\\npolynomial\\n    Polynomial tools\\ntesting\\n    Numpy testing tools\\nf2py\\n    Fortran to Python Interface Generator.\\ndistutils\\n    Enhancements to distutils with support for\\n    Fortran compilers support and more.\\n\\nUtilities\\n---------\\ntest\\n    Run numpy unittests\\nshow_config\\n    Show numpy build configuration\\ndual\\n    Overwrite certain functions with high-performance Scipy tools\\nmatlib\\n    Make everything matrices.\\n__version__\\n    Numpy version string\\n\\nViewing documentation using IPython\\n-----------------------------------\\nStart IPython with the NumPy profile (``ipython -p numpy``), which will\\nimport `numpy` under the alias `np`.  Then, use the ``cpaste`` command to\\npaste examples into the shell.  To see which functions are available in\\n`numpy`, type ``np.<TAB>`` (where ``<TAB>`` refers to the TAB key), or use\\n``np.*cos*?<ENTER>`` (where ``<ENTER>`` refers to the ENTER key) to narrow\\ndown the list.  To view the docstring for a function, use\\n``np.cos?<ENTER>`` (to view the docstring) and ``np.cos??<ENTER>`` (to view\\nthe source code).\\n\\nCopies vs. in-place operation\\n-----------------------------\\nMost of the functions in `numpy` return a copy of the array argument\\n(e.g., `np.sort`).  In-place versions of these functions are often\\navailable as array methods, i.e. ``x = np.array([1,2,3]); x.sort()``.\\nExceptions to this rule are documented.\\n\\n'"
      ]
     },
     "execution_count": 3,
     "metadata": {},
     "output_type": "execute_result"
    }
   ],
   "source": [
    "numpy.__doc__"
   ]
  },
  {
   "cell_type": "code",
   "execution_count": 22,
   "metadata": {
    "collapsed": false
   },
   "outputs": [
    {
     "name": "stdout",
     "output_type": "stream",
     "text": [
      "[[ 0  1  2  3  4  5  6  7  8  9]\n",
      " [10 11 12 13 14 15 16 17 18 19]\n",
      " [20 21 22 23 24 25 26 27 28 29]\n",
      " [30 31 32 33 34 35 36 37 38 39]\n",
      " [40 41 42 43 44 45 46 47 48 49]]\n",
      "2\n"
     ]
    }
   ],
   "source": [
    "import numpy as np\n",
    "x = np.arange(50).reshape(5, 10)\n",
    "print (x)\n",
    "print(np.ndim(x))"
   ]
  },
  {
   "cell_type": "code",
   "execution_count": 11,
   "metadata": {
    "collapsed": false
   },
   "outputs": [
    {
     "data": {
      "text/plain": [
       "array({8, 6, 7}, dtype=object)"
      ]
     },
     "execution_count": 11,
     "metadata": {},
     "output_type": "execute_result"
    }
   ],
   "source": [
    "y = np.array({6, 7, 8})\n",
    "y"
   ]
  },
  {
   "cell_type": "code",
   "execution_count": 12,
   "metadata": {
    "collapsed": false
   },
   "outputs": [
    {
     "data": {
      "text/plain": [
       "'0b10'"
      ]
     },
     "execution_count": 12,
     "metadata": {},
     "output_type": "execute_result"
    }
   ],
   "source": [
    "bin(2)"
   ]
  },
  {
   "cell_type": "code",
   "execution_count": 23,
   "metadata": {
    "collapsed": false
   },
   "outputs": [
    {
     "data": {
      "text/plain": [
       "1"
      ]
     },
     "execution_count": 23,
     "metadata": {},
     "output_type": "execute_result"
    }
   ],
   "source": [
    "0b10 ^ 0b11"
   ]
  },
  {
   "cell_type": "code",
   "execution_count": 24,
   "metadata": {
    "collapsed": false
   },
   "outputs": [
    {
     "data": {
      "text/plain": [
       "3"
      ]
     },
     "execution_count": 24,
     "metadata": {},
     "output_type": "execute_result"
    }
   ],
   "source": [
    "0b10 | 0b11"
   ]
  },
  {
   "cell_type": "code",
   "execution_count": 1,
   "metadata": {
    "collapsed": false
   },
   "outputs": [
    {
     "data": {
      "text/plain": [
       "2"
      ]
     },
     "execution_count": 1,
     "metadata": {},
     "output_type": "execute_result"
    }
   ],
   "source": [
    "0b10 & 0b11"
   ]
  },
  {
   "cell_type": "code",
   "execution_count": 4,
   "metadata": {
    "collapsed": false
   },
   "outputs": [
    {
     "data": {
      "text/plain": [
       "0"
      ]
     },
     "execution_count": 4,
     "metadata": {},
     "output_type": "execute_result"
    }
   ],
   "source": [
    "0b10 >> 0b11"
   ]
  },
  {
   "cell_type": "code",
   "execution_count": 5,
   "metadata": {
    "collapsed": false
   },
   "outputs": [
    {
     "data": {
      "text/plain": [
       "16"
      ]
     },
     "execution_count": 5,
     "metadata": {},
     "output_type": "execute_result"
    }
   ],
   "source": [
    "0b10 << 0b11"
   ]
  },
  {
   "cell_type": "code",
   "execution_count": 1,
   "metadata": {
    "collapsed": false
   },
   "outputs": [
    {
     "name": "stdout",
     "output_type": "stream",
     "text": [
      "{'http://udacity.com/cs101x/urank/index.html': 0.033333333333333326, 'http://udacity.com/cs101x/urank/zinc.html': 0.038666666666666655, 'http://udacity.com/cs101x/urank/nickel.html': 0.09743999999999997, 'http://udacity.com/cs101x/urank/kathleen.html': 0.11661866666666663, 'http://udacity.com/cs101x/urank/arsenic.html': 0.05413333333333332, 'http://udacity.com/cs101x/urank/hummus.html': 0.038666666666666655}\n"
     ]
    }
   ],
   "source": [
    "#Finishing the page ranking algorithm.\n",
    "\n",
    "\"\"\"Algorithm for a search engine\"\"\"\n",
    "\n",
    "def compute_ranks(graph):\n",
    "    d = 0.8 # damping factor\n",
    "    numloops = 10\n",
    "    \n",
    "    ranks = {}\n",
    "    npages = len(graph)\n",
    "    for page in graph:\n",
    "        ranks[page] = 1.0 / npages\n",
    "    \n",
    "    for i in range(0, numloops):\n",
    "        newranks = {}\n",
    "        for page in graph:\n",
    "            newrank = (1 - d) / npages\n",
    "            for node in graph:\n",
    "                if page in graph[node]:\n",
    "                    newrank = newrank + d * (ranks[node] / len(graph[node]))\n",
    "            \n",
    "            \n",
    "            newranks[page] = newrank\n",
    "        ranks = newranks\n",
    "    return ranks\n",
    "\n",
    "\n",
    "\n",
    "cache = {\n",
    "   'http://udacity.com/cs101x/urank/index.html': \"\"\"<html>\n",
    "<body>\n",
    "<h1>Dave's Cooking Algorithms</h1>\n",
    "<p>\n",
    "Here are my favorite recipies:\n",
    "<ul>\n",
    "<li> <a href=\"http://udacity.com/cs101x/urank/hummus.html\">Hummus Recipe</a>\n",
    "<li> <a href=\"http://udacity.com/cs101x/urank/arsenic.html\">World's Best Hummus</a>\n",
    "<li> <a href=\"http://udacity.com/cs101x/urank/kathleen.html\">Kathleen's Hummus Recipe</a>\n",
    "</ul>\n",
    "\n",
    "For more expert opinions, check out the \n",
    "<a href=\"http://udacity.com/cs101x/urank/nickel.html\">Nickel Chef</a> \n",
    "and <a href=\"http://udacity.com/cs101x/urank/zinc.html\">Zinc Chef</a>.\n",
    "</body>\n",
    "</html>\n",
    "\n",
    "\n",
    "\n",
    "\n",
    "\n",
    "\n",
    "\"\"\", \n",
    "   'http://udacity.com/cs101x/urank/zinc.html': \"\"\"<html>\n",
    "<body>\n",
    "<h1>The Zinc Chef</h1>\n",
    "<p>\n",
    "I learned everything I know from \n",
    "<a href=\"http://udacity.com/cs101x/urank/nickel.html\">the Nickel Chef</a>.\n",
    "</p>\n",
    "<p>\n",
    "For great hummus, try \n",
    "<a href=\"http://udacity.com/cs101x/urank/arsenic.html\">this recipe</a>.\n",
    "\n",
    "</body>\n",
    "</html>\n",
    "\n",
    "\n",
    "\n",
    "\n",
    "\n",
    "\n",
    "\"\"\", \n",
    "   'http://udacity.com/cs101x/urank/nickel.html': \"\"\"<html>\n",
    "<body>\n",
    "<h1>The Nickel Chef</h1>\n",
    "<p>\n",
    "This is the\n",
    "<a href=\"http://udacity.com/cs101x/urank/kathleen.html\">\n",
    "best Hummus recipe!\n",
    "</a>\n",
    "\n",
    "</body>\n",
    "</html>\n",
    "\n",
    "\n",
    "\n",
    "\n",
    "\n",
    "\n",
    "\"\"\", \n",
    "   'http://udacity.com/cs101x/urank/kathleen.html': \"\"\"<html>\n",
    "<body>\n",
    "<h1>\n",
    "Kathleen's Hummus Recipe\n",
    "</h1>\n",
    "<p>\n",
    "\n",
    "<ol>\n",
    "<li> Open a can of garbonzo beans.\n",
    "<li> Crush them in a blender.\n",
    "<li> Add 3 tablesppons of tahini sauce.\n",
    "<li> Squeeze in one lemon.\n",
    "<li> Add salt, pepper, and buttercream frosting to taste.\n",
    "</ol>\n",
    "\n",
    "</body>\n",
    "</html>\n",
    "\n",
    "\"\"\", \n",
    "   'http://udacity.com/cs101x/urank/arsenic.html': \"\"\"<html>\n",
    "<body>\n",
    "<h1>\n",
    "The Arsenic Chef's World Famous Hummus Recipe\n",
    "</h1>\n",
    "<p>\n",
    "\n",
    "<ol>\n",
    "<li> Kidnap the <a href=\"http://udacity.com/cs101x/urank/nickel.html\">Nickel Chef</a>.\n",
    "<li> Force her to make hummus for you.\n",
    "</ol>\n",
    "\n",
    "</body>\n",
    "</html>\n",
    "\n",
    "\"\"\", \n",
    "   'http://udacity.com/cs101x/urank/hummus.html': \"\"\"<html>\n",
    "<body>\n",
    "<h1>\n",
    "Hummus Recipe\n",
    "</h1>\n",
    "<p>\n",
    "\n",
    "<ol>\n",
    "<li> Go to the store and buy a container of hummus.\n",
    "<li> Open it.\n",
    "</ol>\n",
    "\n",
    "</body>\n",
    "</html>\n",
    "\n",
    "\n",
    "\n",
    "\n",
    "\"\"\", \n",
    "}\n",
    "\n",
    "def crawl_web(seed): # returns index, graph of inlinks\n",
    "    tocrawl = [seed]\n",
    "    crawled = []\n",
    "    graph = {}  # <url>, [list of pages it links to]\n",
    "    index = {} \n",
    "    while tocrawl: \n",
    "        page = tocrawl.pop()\n",
    "        if page not in crawled:\n",
    "            content = get_page(page)\n",
    "            add_page_to_index(index, page, content)\n",
    "            outlinks = get_all_links(content)\n",
    "            \n",
    "            \n",
    "            graph[page] = outlinks\n",
    "            \n",
    "            \n",
    "            union(tocrawl, outlinks)\n",
    "            crawled.append(page)\n",
    "    return index, graph\n",
    "\n",
    "\n",
    "def get_page(url):\n",
    "    if url in cache:\n",
    "        return cache[url]\n",
    "    else:\n",
    "        return None\n",
    "    \n",
    "def get_next_target(page):\n",
    "    start_link = page.find('<a href=')\n",
    "    if start_link == -1: \n",
    "        return None, 0\n",
    "    start_quote = page.find('\"', start_link)\n",
    "    end_quote = page.find('\"', start_quote + 1)\n",
    "    url = page[start_quote + 1:end_quote]\n",
    "    return url, end_quote\n",
    "\n",
    "def get_all_links(page):\n",
    "    links = []\n",
    "    while True:\n",
    "        url, endpos = get_next_target(page)\n",
    "        if url:\n",
    "            links.append(url)\n",
    "            page = page[endpos:]\n",
    "        else:\n",
    "            break\n",
    "    return links\n",
    "\n",
    "\n",
    "def union(a, b):\n",
    "    for e in b:\n",
    "        if e not in a:\n",
    "            a.append(e)\n",
    "\n",
    "def add_page_to_index(index, url, content):\n",
    "    words = content.split()\n",
    "    for word in words:\n",
    "        add_to_index(index, word, url)\n",
    "        \n",
    "def add_to_index(index, keyword, url):\n",
    "    if keyword in index:\n",
    "        index[keyword].append(url)\n",
    "    else:\n",
    "        index[keyword] = [url]\n",
    "\n",
    "def lookup(index, keyword):\n",
    "    if keyword in index:\n",
    "        return index[keyword]\n",
    "    else:\n",
    "        return None\n",
    "\n",
    "index, graph = crawl_web('http://udacity.com/cs101x/urank/index.html')\n",
    "ranks = compute_ranks(graph)\n",
    "print (ranks)\n",
    "\n",
    "\n",
    "#>>> {'http:/)/udacity.com/cs101x/urank/kathleen.html': 0.11661866666666663,\n",
    "#'http://udacity.com/cs101x/urank/zinc.html': 0.038666666666666655,\n",
    "#'http://udacity.com/cs101x/urank/hummus.html': 0.038666666666666655,\n",
    "#'http://udacity.com/cs101x/urank/arsenic.html': 0.054133333333333325,\n",
    "#'http://udacity.com/cs101x/urank/index.html': 0.033333333333333326,\n",
    "#'http://udacity.com/cs101x/urank/nickel.html': 0.09743999999999997}\n",
    "\n",
    "\n",
    "\n"
   ]
  },
  {
   "cell_type": "code",
   "execution_count": 8,
   "metadata": {
    "collapsed": false
   },
   "outputs": [
    {
     "name": "stdout",
     "output_type": "stream",
     "text": [
      "False\n"
     ]
    }
   ],
   "source": [
    "#Finite state machine (FSM)\n",
    "\n",
    "# Define edges and accepting to encode r\"[a-b][c-d]?\". Name your start state 1.\n",
    "\n",
    "edges = {(1, 'a'):2, (1, 'b'):2, (2, 'c'): 3, (2, 'd'):3}\n",
    "\n",
    "accepting = [2,3]\n",
    "\n",
    "\n",
    "def fsmsim(string, current, edges, accepting):\n",
    "    if string == \"\":\n",
    "        return current in accepting\n",
    "    else:\n",
    "        letter = string[0]\n",
    "        if (current, letter) in edges:\n",
    "            destination = edges[(current, letter)]\n",
    "            remaining_string = string[1:]\n",
    "            return fsmsim(remaining_string, destination, edges, accepting)\n",
    "        else:\n",
    "            return False\n",
    "print (fsmsim(\"abc\", 1, edges, accepting))\n"
   ]
  },
  {
   "cell_type": "code",
   "execution_count": 10,
   "metadata": {
    "collapsed": false
   },
   "outputs": [
    {
     "name": "stdout",
     "output_type": "stream",
     "text": [
      "[['rahul', 'shiva', 'mohit', 'shekhar'], ['rahul', 'shiva', 'mohit'], ['rahul', 'shiva', 'shekhar'], ['rahul', 'shiva'], ['rahul', 'mohit', 'shekhar'], ['rahul', 'mohit'], ['rahul', 'shekhar'], ['rahul'], ['shiva', 'mohit', 'shekhar'], ['shiva', 'mohit'], ['shiva', 'shekhar'], ['shiva'], ['mohit', 'shekhar'], ['mohit'], ['shekhar'], []]\n"
     ]
    }
   ],
   "source": [
    "#write a procedur that accepts a list as an argument. The procedure should print out all of the subsets of the list\n",
    "\n",
    "def sublists(big_list, selected_so_far):\n",
    "    # As we make reccursive calls, big_list will shrink\n",
    "    #and selected_so_far may grow!\n",
    "    \n",
    "    if big_list == []:\n",
    "        return [selected_so_far]\n",
    "    else:\n",
    "        current_element = big_list[0]\n",
    "        rest_of_big_list = big_list[1:]\n",
    "        return sublists(rest_of_big_list, selected_so_far + [current_element]) + sublists(rest_of_big_list, selected_so_far)\n",
    "        \n",
    "dinnerguest = [\"rahul\", \"shiva\", \"mohit\", \"shekhar\"]\n",
    "print(sublists(dinnerguest, []))"
   ]
  },
  {
   "cell_type": "code",
   "execution_count": null,
   "metadata": {
    "collapsed": true
   },
   "outputs": [],
   "source": [
    "#poker game 5 Hand\n",
    "\n",
    "def poker(hands):\n",
    "    \"Return a list of winning hands: poker([hand,...]) => [hand,...]\"\n",
    "    return allmax(hands, key=hand_rank)\n",
    "\n",
    "def allmax(iterable, key=None):\n",
    "    \"Return a list of all items equal to the max of the iterable.\"\n",
    "    \n",
    "\n",
    "def hand_rank(hand):\n",
    "    \"Return a value indicating the ranking of a hand.\"\n",
    "    ranks = card_ranks(hand) \n",
    "    if straight(ranks) and flush(hand):\n",
    "        return (8, max(ranks))\n",
    "    elif kind(4, ranks):\n",
    "        return (7, kind(4, ranks), kind(1, ranks))\n",
    "    elif kind(3, ranks) and kind(2, ranks):\n",
    "        return (6, kind(3, ranks), kind(2, ranks))\n",
    "    elif flush(hand):\n",
    "        return (5, ranks)\n",
    "    elif straight(ranks):\n",
    "        return (4, max(ranks))\n",
    "    elif kind(3, ranks):\n",
    "        return (3, kind(3, ranks), ranks)\n",
    "    elif two_pair(ranks):\n",
    "        return (2, two_pair(ranks), ranks)\n",
    "    elif kind(2, ranks):\n",
    "        return (1, kind(2, ranks), ranks)\n",
    "    else:\n",
    "        return (0, ranks)\n",
    "\n",
    "def card_ranks(hand):\n",
    "    \"Return a list of the ranks, sorted with higher first.\"\n",
    "    ranks = ['--23456789TJQKA'.index(r) for r, s in hand]\n",
    "    ranks.sort(reverse = True)\n",
    "    return [5, 4, 3, 2, 1] if (ranks == [14, 5, 4, 3, 2]) else ranks\n",
    "\n",
    "def flush(hand):\n",
    "    \"Return True if all the cards have the same suit.\"\n",
    "    suits = [s for r,s in hand]\n",
    "    return len(set(suits)) == 1\n",
    "\n",
    "def straight(ranks):\n",
    "    \"Return True if the ordered ranks form a 5-card straight.\"\n",
    "    return (max(ranks)-min(ranks) == 4) and len(set(ranks)) == 5\n",
    "\n",
    "def kind(n, ranks):\n",
    "    \"\"\"Return the first rank that this hand has exactly n-of-a-kind of.\n",
    "    Return None if there is no n-of-a-kind in the hand.\"\"\"\n",
    "    for r in ranks:\n",
    "        if ranks.count(r) == n: return r\n",
    "    return None\n",
    "\n",
    "def two_pair(ranks):\n",
    "    \"If there are two pair here, return the two ranks of the two pairs, else None.\"\n",
    "    pair = kind(2, ranks)\n",
    "    lowpair = kind(2, list(reversed(ranks)))\n",
    "    if pair and lowpair != pair:\n",
    "        return (pair, lowpair)\n",
    "    else:\n",
    "        return None\n",
    "\n",
    "def test():\n",
    "    \"Test cases for the functions in poker program.\"\n",
    "    sf1 = \"6C 7C 8C 9C TC\".split() # Straight Flush\n",
    "    sf2 = \"6D 7D 8D 9D TD\".split() # Straight Flush\n",
    "    fk = \"9D 9H 9S 9C 7D\".split() # Four of a Kind\n",
    "    fh = \"TD TC TH 7C 7D\".split() # Full House\n",
    "    assert poker([sf1, sf2, fk, fh]) == [sf1, sf2] \n",
    "    return 'tests pass'\n"
   ]
  }
 ],
 "metadata": {
  "kernelspec": {
   "display_name": "Python 3",
   "language": "python",
   "name": "python3"
  },
  "language_info": {
   "codemirror_mode": {
    "name": "ipython",
    "version": 3
   },
   "file_extension": ".py",
   "mimetype": "text/x-python",
   "name": "python",
   "nbconvert_exporter": "python",
   "pygments_lexer": "ipython3",
   "version": "3.6.0"
  }
 },
 "nbformat": 4,
 "nbformat_minor": 2
}
