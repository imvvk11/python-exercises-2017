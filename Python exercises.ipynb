{
 "cells": [
  {
   "cell_type": "markdown",
   "metadata": {},
   "source": [
    "\"\"\" 2. Define a function max_of_three() that takes three numbers as arguments and returns the largest of\n",
    "them.\"\"\""
   ]
  },
  {
   "cell_type": "code",
   "execution_count": 4,
   "metadata": {
    "collapsed": false
   },
   "outputs": [
    {
     "name": "stdout",
     "output_type": "stream",
     "text": [
      "80\n"
     ]
    }
   ],
   "source": [
    "def max_of_three(a, b, c): #Define a function named max_of_three which takes three integers as an argument.\n",
    "    if max(a,b) > c:       # Compare the max between three numbers using previous max function.\n",
    "        return max(a,b)    # returns the max. number\n",
    "    else:\n",
    "        return c\n",
    "    \n",
    "print(max_of_three(30,80,45)) #prints the desired reusult   "
   ]
  },
  {
   "cell_type": "code",
   "execution_count": 6,
   "metadata": {
    "collapsed": false
   },
   "outputs": [
    {
     "data": {
      "text/plain": [
       "' 3. Define a function that computes the length of a given list or string. (It is true that Python has the len()\\nfunction built in, but writing it yourself is nevertheless a good exercise.)'"
      ]
     },
     "execution_count": 6,
     "metadata": {},
     "output_type": "execute_result"
    }
   ],
   "source": [
    "\"\"\" 3. Define a function that computes the length of a given list or string. (It is true that Python has the len()\n",
    "function built in, but writing it yourself is nevertheless a good exercise.)\"\"\"\n",
    "\n",
    "def lengthOfWord(lst):\n",
    "    result = 0\n",
    "    for item in lst:\n",
    "        result = result + 1\n",
    "    return result    \n",
    "\n",
    "print(lengthOfWord(\"Voyeurism\"))\n",
    "print (lengthOfWord(\"incarnate the terrorists\"))"
   ]
  },
  {
   "cell_type": "code",
   "execution_count": 7,
   "metadata": {
    "collapsed": false
   },
   "outputs": [
    {
     "data": {
      "text/plain": [
       "'4. Write a function that takes a character (i.e. a string of length 1) and returns True if it is a vowel, False\\notherwise. '"
      ]
     },
     "execution_count": 7,
     "metadata": {},
     "output_type": "execute_result"
    }
   ],
   "source": [
    "\"\"\"4. Write a function that takes a character (i.e. a string of length 1) and returns True if it is a vowel, False\n",
    "otherwise. \"\"\"\n",
    "\n",
    "def checkVowel(word):\n",
    "    for vowel in word:\n",
    "        if word in (\"a\",\"A\",\"e\",\"E\",\"i\",\"I\",\"o\",\"O\",\"u\",\"U\"):\n",
    "            return True\n",
    "        else:\n",
    "            return False\n",
    "        \n",
    "print(checkVowel('e')) \n",
    "print(checkVowel('H'))"
   ]
  },
  {
   "cell_type": "code",
   "execution_count": 9,
   "metadata": {
    "collapsed": false,
    "scrolled": true
   },
   "outputs": [
    {
     "data": {
      "text/plain": [
       "'5. Write a function translate() that will translate a text into \"rövarspråket\" (Swedish for \"robber\\'s\\nlanguage\"). That is, double every consonant and place an occurrence of \"o\" in between. For example,\\ntranslate(\"this is fun\") should return the string \"tothohisos isos fofunon\".'"
      ]
     },
     "execution_count": 9,
     "metadata": {},
     "output_type": "execute_result"
    }
   ],
   "source": [
    "\"\"\"5. Write a function translate() that will translate a text into \"rövarspråket\" (Swedish for \"robber's\n",
    "language\"). That is, double every consonant and place an occurrence of \"o\" in between. For example,\n",
    "translate(\"this is fun\") should return the string \"tothohisos isos fofunon\".\"\"\"\n",
    "\n",
    "\n",
    "def translate(text):\n",
    "    output = \"\"\n",
    "    for w in text:\n",
    "         \n",
    "        if w not in (\"a\", \"A\", \"i\", \"I\", \"o\",\"O\", \"u\", \"U\"):\n",
    "            output = output + w + \"o\" + w    \n",
    "        else:\n",
    "            output = output + w\n",
    "    return output\n",
    " \n",
    "        \n",
    "print(translate(\"this is fun\"))       \n"
   ]
  },
  {
   "cell_type": "code",
   "execution_count": 11,
   "metadata": {
    "collapsed": false
   },
   "outputs": [
    {
     "data": {
      "text/plain": [
       "'6. Define a function sum() and a function multiply() that sums and multiplies (respectively) all the\\nnumbers in a list of numbers. For example, sum([1, 2, 3, 4]) should return 10, and multiply([1,\\n2, 3, 4]) should return 24.'"
      ]
     },
     "execution_count": 11,
     "metadata": {},
     "output_type": "execute_result"
    }
   ],
   "source": [
    "\"\"\"6. Define a function sum() and a function multiply() that sums and multiplies (respectively) all the\n",
    "numbers in a list of numbers. For example, sum([1, 2, 3, 4]) should return 10, and multiply([1,\n",
    "2, 3, 4]) should return 24.\"\"\"\n",
    "\n",
    "def sum_list(list_of_numbers):\n",
    "    output = 0\n",
    "    for number in list_of_numbers:\n",
    "        output = output + number\n",
    "    return output\n",
    "def multiply(list_of_numbers):\n",
    "    result = 1\n",
    "    for number in list_of_numbers:\n",
    "        result = result * number\n",
    "    return result\n",
    "\n",
    "print(sum_list([1, 2, 3, 4, 5, 6, 7, 8, 9, 10]))\n",
    "print(multiply([1, 2, 3, 4, 5, 6, 7, 8, 9, 10]))\n",
    "    "
   ]
  },
  {
   "cell_type": "code",
   "execution_count": 13,
   "metadata": {
    "collapsed": false
   },
   "outputs": [
    {
     "data": {
      "text/plain": [
       "'7. Define a function reverse() that computes the reversal of a string. For example, reverse(\"I am\\ntesting\") should return the string \"gnitset ma I\" '"
      ]
     },
     "execution_count": 13,
     "metadata": {},
     "output_type": "execute_result"
    }
   ],
   "source": [
    "\"\"\"7. Define a function reverse() that computes the reversal of a string. For example, reverse(\"I am\n",
    "testing\") should return the string \"gnitset ma I\" \"\"\"\n",
    "\n",
    "def reverse(text):\n",
    "    return text[::-1]\n",
    "\n",
    "print (reverse(\"I am testing\"))\n",
    "\n",
    "def reverse(string):\n",
    "    length = len(string)\n",
    "    ab = ''\n",
    "    for i in range(length):\n",
    "        ab += string[length-1]\n",
    "        length -= 1\n",
    "    return ab\n",
    "\n",
    "print(reverse(\"I am testing\"))\n"
   ]
  },
  {
   "cell_type": "code",
   "execution_count": 7,
   "metadata": {
    "collapsed": false,
    "scrolled": true
   },
   "outputs": [
    {
     "name": "stdout",
     "output_type": "stream",
     "text": [
      "True\n",
      "True\n"
     ]
    },
    {
     "data": {
      "text/plain": [
       "'9. Write a function is_member() that takes a value (i.e. a number, string, etc) x and a list of values a, and\\nreturns True if x is a member of a, False otherwise. '"
      ]
     },
     "execution_count": 7,
     "metadata": {},
     "output_type": "execute_result"
    }
   ],
   "source": [
    "\"\"\"8. Define a function is_palindrome() that recognizes palindromes (i.e. words that look the same written\n",
    "backwards). For example, is_palindrome(\"radar\") should return True \"\"\"\n",
    "\n",
    "def is_palindrome(word):\n",
    "    if word == word[::-1]:\n",
    "        return True\n",
    "print(is_palindrome(\"radar\"))\n",
    "\n",
    "def is_palindrome(word):\n",
    "    result = \"\"\n",
    "    length = len(word)\n",
    "    for i in range(length):\n",
    "        result = result + word[length-1]\n",
    "        length = length -1\n",
    "    if word == result:\n",
    "        return True\n",
    "        \n",
    "    \n",
    "        \n",
    "              \n",
    "print(is_palindrome(\"radar\"))\n",
    "\n",
    "\n"
   ]
  },
  {
   "cell_type": "code",
   "execution_count": 18,
   "metadata": {
    "collapsed": false
   },
   "outputs": [
    {
     "name": "stdout",
     "output_type": "stream",
     "text": [
      "True\n"
     ]
    }
   ],
   "source": [
    "\"\"\"9. Write a function is_member() that takes a value (i.e. a number, string, etc) x and a list of values a, and\n",
    "returns True if x is a member of a, False otherwise. \"\"\"\n",
    "\n",
    "def is_member(x, a):\n",
    "\n",
    "    if x in a:\n",
    "        return True \n",
    "    else: \n",
    "        return False\n",
    "\n",
    "print (is_member(3, [1,2,3,4,5,6,7,8]))    "
   ]
  },
  {
   "cell_type": "code",
   "execution_count": 19,
   "metadata": {
    "collapsed": false,
    "scrolled": true
   },
   "outputs": [
    {
     "data": {
      "text/plain": [
       "'10. Define a function overlapping() that takes two lists and returns True if they have at least one member in\\ncommon, False otherwise. You may use your is_member() function, or the in operator, but for the sake\\nof the exercise, you should (also) write it using two nested forloops. '"
      ]
     },
     "execution_count": 19,
     "metadata": {},
     "output_type": "execute_result"
    }
   ],
   "source": [
    "\"\"\"10. Define a function overlapping() that takes two lists and returns True if they have at least one member in\n",
    "common, False otherwise. You may use your is_member() function, or the in operator, but for the sake\n",
    "of the exercise, you should (also) write it using two nested forloops. \"\"\"\n",
    "\n",
    "def overlapping(lst1, lst2):\n",
    "    for item1 in lst1:\n",
    "        for item2 in lst2:\n",
    "            if item1 == item2:\n",
    "                return True\n",
    "    return False\n",
    "    \n",
    "print (overlapping([1,2,3,4], [3,4,1,5]))    \n",
    "\n"
   ]
  },
  {
   "cell_type": "code",
   "execution_count": 21,
   "metadata": {
    "collapsed": false
   },
   "outputs": [
    {
     "name": "stdout",
     "output_type": "stream",
     "text": [
      "False\n"
     ]
    }
   ],
   "source": [
    "def overlapping(lst1, lst2):\n",
    "    return len([elem for elem in lst1 if elem in lst2])>0\n",
    "print (overlapping([1,2,3,4], [5,6,7,8]))  "
   ]
  },
  {
   "cell_type": "code",
   "execution_count": 22,
   "metadata": {
    "collapsed": false
   },
   "outputs": [
    {
     "data": {
      "text/plain": [
       "'11. Define a function generate_n_chars() that takes an integer n and a character c and returns a string, n\\ncharacters long, consisting only of c:s. For example, generate_n_chars(5,\"x\") should return the\\nstring \"xxxxx\". (Python is unusual in that you can actually write an expression 5 * \"x\" that will evaluate\\nto \"xxxxx\". For the sake of the exercise you should ignore that the problem can be solved in this manner.) '"
      ]
     },
     "execution_count": 22,
     "metadata": {},
     "output_type": "execute_result"
    }
   ],
   "source": [
    "\"\"\"11. Define a function generate_n_chars() that takes an integer n and a character c and returns a string, n\n",
    "characters long, consisting only of c:s. For example, generate_n_chars(5,\"x\") should return the\n",
    "string \"xxxxx\". (Python is unusual in that you can actually write an expression 5 * \"x\" that will evaluate\n",
    "to \"xxxxx\". For the sake of the exercise you should ignore that the problem can be solved in this manner.) \"\"\""
   ]
  },
  {
   "cell_type": "code",
   "execution_count": 23,
   "metadata": {
    "collapsed": false
   },
   "outputs": [
    {
     "name": "stdout",
     "output_type": "stream",
     "text": [
      "vvvvvvvvvv\n"
     ]
    }
   ],
   "source": [
    "def generate_n_chars(n, char):\n",
    "    result = ''\n",
    "    for i in range(n):\n",
    "        result = result + char\n",
    "    return result\n",
    "\n",
    "print (generate_n_chars(10, 'v'))\n",
    "\n",
    "        \n",
    "        "
   ]
  },
  {
   "cell_type": "code",
   "execution_count": 24,
   "metadata": {
    "collapsed": false
   },
   "outputs": [
    {
     "data": {
      "text/plain": [
       "'12. Define a procedure histogram() that takes a list of integers and prints a histogram to the screen. For\\nexample, histogram([4, 9, 7]) should print the following:\\n****\\n*********\\n******* '"
      ]
     },
     "execution_count": 24,
     "metadata": {},
     "output_type": "execute_result"
    }
   ],
   "source": [
    "\"\"\"12. Define a procedure histogram() that takes a list of integers and prints a histogram to the screen. For\n",
    "example, histogram([4, 9, 7]) should print the following:\n",
    "****\n",
    "*********\n",
    "******* \"\"\""
   ]
  },
  {
   "cell_type": "code",
   "execution_count": 25,
   "metadata": {
    "collapsed": false
   },
   "outputs": [
    {
     "name": "stdout",
     "output_type": "stream",
     "text": [
      "****\n",
      "*********\n",
      "*******\n"
     ]
    }
   ],
   "source": [
    "def histogram(lst):\n",
    "    \n",
    "    for num in lst:\n",
    "        print (num * '*') \n",
    "        \n",
    "    \n",
    "histogram([4,9,7]) \n",
    "    \n",
    "    \n",
    "    "
   ]
  },
  {
   "cell_type": "code",
   "execution_count": 26,
   "metadata": {
    "collapsed": false
   },
   "outputs": [
    {
     "data": {
      "text/plain": [
       "'13. The function max() from exercise 1) and the function max_of_three() from exercise 2) will only work for\\ntwo and three numbers, respectively. But suppose we have a much larger number of numbers, or suppose\\nwe cannot tell in advance how many they are? Write a function max_in_list() that takes a list of\\nnumbers and returns the largest one. '"
      ]
     },
     "execution_count": 26,
     "metadata": {},
     "output_type": "execute_result"
    }
   ],
   "source": [
    "\"\"\"13. The function max() from exercise 1) and the function max_of_three() from exercise 2) will only work for\n",
    "two and three numbers, respectively. But suppose we have a much larger number of numbers, or suppose\n",
    "we cannot tell in advance how many they are? Write a function max_in_list() that takes a list of\n",
    "numbers and returns the largest one. \"\"\""
   ]
  },
  {
   "cell_type": "code",
   "execution_count": 27,
   "metadata": {
    "collapsed": false
   },
   "outputs": [
    {
     "name": "stdout",
     "output_type": "stream",
     "text": [
      "10024\n",
      "10024\n"
     ]
    }
   ],
   "source": [
    "# 1st method\n",
    "from functools import reduce\n",
    "\n",
    "lst =[2,34,6,7,5,25,346,554,67,10024,43,2,44]\n",
    "\n",
    "max_in_list = reduce(lambda x,y: max(x,y), lst)\n",
    "\n",
    "print (max_in_list) \n",
    "\n",
    "# 2nd method\n",
    "\n",
    "def max_in_list(lst):\n",
    "    result = 0\n",
    "    for num in lst:\n",
    "        if num > result:\n",
    "            result = num\n",
    "    return result\n",
    "    \n",
    "print (max_in_list(lst))    \n",
    "    \n",
    "    \n",
    "    "
   ]
  },
  {
   "cell_type": "code",
   "execution_count": 28,
   "metadata": {
    "collapsed": false
   },
   "outputs": [
    {
     "data": {
      "text/plain": [
       "'14. Write a program that maps a list of words into a list of integers representing the lengths of the correponding\\nwords. '"
      ]
     },
     "execution_count": 28,
     "metadata": {},
     "output_type": "execute_result"
    }
   ],
   "source": [
    "\"\"\"14. Write a program that maps a list of words into a list of integers representing the lengths of the correponding\n",
    "words. \"\"\""
   ]
  },
  {
   "cell_type": "code",
   "execution_count": 29,
   "metadata": {
    "collapsed": false
   },
   "outputs": [
    {
     "name": "stdout",
     "output_type": "stream",
     "text": [
      "[5, 5, 6, 10, 6]\n"
     ]
    }
   ],
   "source": [
    "def word_to_integer(lst):\n",
    "    result = []\n",
    "    for word in lst:\n",
    "        result.append(len(word))\n",
    "    return result\n",
    "\n",
    "print (word_to_integer(['mango','apple', 'orange', 'strawberry', 'banana']))\n",
    "        "
   ]
  },
  {
   "cell_type": "markdown",
   "metadata": {},
   "source": [
    "\"\"\"15. Write a function find_longest_word() that takes a list of words and returns the length of the longest\n",
    "one. \"\"\""
   ]
  },
  {
   "cell_type": "code",
   "execution_count": 8,
   "metadata": {
    "collapsed": false
   },
   "outputs": [
    {
     "ename": "TypeError",
     "evalue": "max() missing 1 required positional argument: 'num2'",
     "output_type": "error",
     "traceback": [
      "\u001b[0;31m---------------------------------------------------------------------------\u001b[0m",
      "\u001b[0;31mTypeError\u001b[0m                                 Traceback (most recent call last)",
      "\u001b[0;32m<ipython-input-8-b8a0a4a0c6c8>\u001b[0m in \u001b[0;36m<module>\u001b[0;34m()\u001b[0m\n\u001b[1;32m      5\u001b[0m         \u001b[0mresult\u001b[0m\u001b[1;33m.\u001b[0m\u001b[0mappend\u001b[0m\u001b[1;33m(\u001b[0m\u001b[0mlen\u001b[0m\u001b[1;33m(\u001b[0m\u001b[0mword\u001b[0m\u001b[1;33m)\u001b[0m\u001b[1;33m)\u001b[0m\u001b[1;33m\u001b[0m\u001b[0m\n\u001b[1;32m      6\u001b[0m     \u001b[1;32mreturn\u001b[0m \u001b[0mmax\u001b[0m\u001b[1;33m(\u001b[0m\u001b[0mresult\u001b[0m\u001b[1;33m)\u001b[0m\u001b[1;33m\u001b[0m\u001b[0m\n\u001b[0;32m----> 7\u001b[0;31m \u001b[0mprint\u001b[0m \u001b[1;33m(\u001b[0m\u001b[0mfind_longest_word\u001b[0m\u001b[1;33m(\u001b[0m\u001b[1;33m[\u001b[0m\u001b[1;34m'mango'\u001b[0m\u001b[1;33m,\u001b[0m\u001b[1;34m'apple'\u001b[0m\u001b[1;33m,\u001b[0m \u001b[1;34m'orange'\u001b[0m\u001b[1;33m,\u001b[0m \u001b[1;34m'strawberry'\u001b[0m\u001b[1;33m,\u001b[0m \u001b[1;34m'banana'\u001b[0m\u001b[1;33m]\u001b[0m\u001b[1;33m)\u001b[0m\u001b[1;33m)\u001b[0m\u001b[1;33m\u001b[0m\u001b[0m\n\u001b[0m\u001b[1;32m      8\u001b[0m \u001b[1;33m\u001b[0m\u001b[0m\n\u001b[1;32m      9\u001b[0m \u001b[1;31m#2nd method\u001b[0m\u001b[1;33m\u001b[0m\u001b[1;33m\u001b[0m\u001b[0m\n",
      "\u001b[0;32m<ipython-input-8-b8a0a4a0c6c8>\u001b[0m in \u001b[0;36mfind_longest_word\u001b[0;34m(lst)\u001b[0m\n\u001b[1;32m      4\u001b[0m     \u001b[1;32mfor\u001b[0m \u001b[0mword\u001b[0m \u001b[1;32min\u001b[0m \u001b[0mlst\u001b[0m\u001b[1;33m:\u001b[0m\u001b[1;33m\u001b[0m\u001b[0m\n\u001b[1;32m      5\u001b[0m         \u001b[0mresult\u001b[0m\u001b[1;33m.\u001b[0m\u001b[0mappend\u001b[0m\u001b[1;33m(\u001b[0m\u001b[0mlen\u001b[0m\u001b[1;33m(\u001b[0m\u001b[0mword\u001b[0m\u001b[1;33m)\u001b[0m\u001b[1;33m)\u001b[0m\u001b[1;33m\u001b[0m\u001b[0m\n\u001b[0;32m----> 6\u001b[0;31m     \u001b[1;32mreturn\u001b[0m \u001b[0mmax\u001b[0m\u001b[1;33m(\u001b[0m\u001b[0mresult\u001b[0m\u001b[1;33m)\u001b[0m\u001b[1;33m\u001b[0m\u001b[0m\n\u001b[0m\u001b[1;32m      7\u001b[0m \u001b[0mprint\u001b[0m \u001b[1;33m(\u001b[0m\u001b[0mfind_longest_word\u001b[0m\u001b[1;33m(\u001b[0m\u001b[1;33m[\u001b[0m\u001b[1;34m'mango'\u001b[0m\u001b[1;33m,\u001b[0m\u001b[1;34m'apple'\u001b[0m\u001b[1;33m,\u001b[0m \u001b[1;34m'orange'\u001b[0m\u001b[1;33m,\u001b[0m \u001b[1;34m'strawberry'\u001b[0m\u001b[1;33m,\u001b[0m \u001b[1;34m'banana'\u001b[0m\u001b[1;33m]\u001b[0m\u001b[1;33m)\u001b[0m\u001b[1;33m)\u001b[0m\u001b[1;33m\u001b[0m\u001b[0m\n\u001b[1;32m      8\u001b[0m \u001b[1;33m\u001b[0m\u001b[0m\n",
      "\u001b[0;31mTypeError\u001b[0m: max() missing 1 required positional argument: 'num2'"
     ]
    }
   ],
   "source": [
    "#1st method\n",
    "def find_longest_word(lst):\n",
    "    result = []\n",
    "    for word in lst:\n",
    "        result.append(len(word))\n",
    "    return max(result)    \n",
    "print (find_longest_word(['mango','apple', 'orange', 'strawberry', 'banana']))\n",
    "\n",
    "#2nd method\n",
    "def find_longest_word(lst):\n",
    "    value = []\n",
    "    for word in lst:\n",
    "        value.append(len(word))\n",
    "    value.sort()\n",
    "    return value[-1]\n",
    "print (find_longest_word(['mango','apple', 'orange', 'strawberry', 'banana']))        "
   ]
  },
  {
   "cell_type": "code",
   "execution_count": null,
   "metadata": {
    "collapsed": false
   },
   "outputs": [],
   "source": [
    "\"\"\"16. Write a function filter_long_words() that takes a list of words and an integer n and returns the list of\n",
    "words that are longer than n.\"\"\""
   ]
  },
  {
   "cell_type": "code",
   "execution_count": 41,
   "metadata": {
    "collapsed": false
   },
   "outputs": [
    {
     "name": "stdout",
     "output_type": "stream",
     "text": [
      "[6, 10, 6]\n"
     ]
    }
   ],
   "source": [
    "def filter_long_words(lst, n):\n",
    "    result = []\n",
    "    for word in lst:\n",
    "        \n",
    "        if len(word) > n:\n",
    "            result.append(len(word))\n",
    "    return result\n",
    "    \n",
    "print (filter_long_words(['mango','apple', 'orange', 'strawberry', 'banana'], 5))\n",
    "    "
   ]
  },
  {
   "cell_type": "code",
   "execution_count": null,
   "metadata": {
    "collapsed": false
   },
   "outputs": [],
   "source": [
    "\"\"\"17. Write a version of a palindrome recognizer that also accepts phrase palindromes such as \"Go hang a\n",
    "salami I'm a lasagna hog.\", \"Was it a rat I saw?\", \"Step on no pets\", \"Sit on a potato pan, Otis\", \"Lisa Bonet\n",
    "ate no basil\", \"Satan, oscillate my metallic sonatas\", \"I roamed under it as a tired nude Maori\", \"Rise to vote\n",
    "sir\", or the exclamation \"Dammit, I'm mad!\". Note that punctuation, capitalization, and spacing are usually\n",
    "ignored. \"\"\"\n",
    "\n",
    "def palindrome_phrase(phrase_string):\n",
    "    phrase_string = phrase_string.lower() #lowercase the strings\n",
    "    phrase_string = ''.join([c for c in phrase_string if c.isalnum()])  #list comprehenson checks if string has alphanumeric value and join it as a string. \n",
    "    return phrase_string == phrase_string[::-1]\n",
    "\n",
    "print (palindrome_phrase(\"Was it a rat I saw?\"))\n",
    "print (palindrome_phrase(\"Go hang a salami I'm a lasagna hog.\"))   \n",
    "print (palindrome_phrase(\"Step on no pets\"))    \n",
    "print (palindrome_phrase(\"I roamed under it as a tired nude Maori\")) \n",
    "print (palindrome_phrase( \"Dammit, I'm mad!\")) \n",
    "print (palindrome_phrase( \"Rise to vote sir\")) "
   ]
  },
  {
   "cell_type": "code",
   "execution_count": null,
   "metadata": {
    "collapsed": false
   },
   "outputs": [],
   "source": [
    "\"\"\"18. A pangram is a sentence that contains all the letters of the English alphabet at least once, for example: The\n",
    "quick brown fox jumps over the lazy dog. Your task here is to write a function to check a sentence to see if it\n",
    "is a pangram or not. \"\"\"\n",
    "\n",
    "def pangram(pangram_word):\n",
    "    \n",
    "    pangram_word = pangram_word.lower()\n",
    "    character_set = set(pangram_word)\n",
    "    \n",
    "    character_pangram = [c for c in character_set if c.isalpha()]\n",
    "    \n",
    "    return len(character_pangram) == 26\n",
    "        \n",
    "        \n",
    "print (pangram(\"The quick brown fox jumps over the lazy dog\"))"
   ]
  },
  {
   "cell_type": "code",
   "execution_count": null,
   "metadata": {
    "collapsed": false
   },
   "outputs": [],
   "source": [
    "\"\"\"19. \"99 Bottles of Beer\" is a traditional song in the United States and Canada. It is popular to sing on long trips,\n",
    "as it has a very repetitive format which is easy to memorize, and can take a long time to sing. The song's\n",
    "simple lyrics are as follows:\n",
    "99 bottles of beer on the wall, 99 bottles of beer.\n",
    "Take one down, pass it around, 98 bottles of beer on the wall.\n",
    "The same verse is repeated, each time with one fewer bottle. The song is completed when the singer or\n",
    "singers reach zero.\n",
    "Your task here is write a Python program capable of generating all the verses of the song. \"\"\"\n",
    "\n",
    "def lyric_song():\n",
    "    i = 99\n",
    "    song = ''\n",
    "    while i>=1:\n",
    "        song = song + str(i) + \" bottles of beer on the wall,\" + str(i)+ \" bottles of beer.\\nTake one down, pass it around, \" + str(i-1) + \" bottles of beer on the wall.\\n\\n\"\n",
    "        i = i - 1 \n",
    "        \n",
    "    print (song)\n",
    "\n",
    "print (lyric_song())"
   ]
  },
  {
   "cell_type": "code",
   "execution_count": null,
   "metadata": {
    "collapsed": false
   },
   "outputs": [],
   "source": [
    "\"\"\"20. Represent a small bilingual lexicon as a Python dictionary in the following fashion {\"merry\":\"god\",\n",
    "\"christmas\":\"jul\", \"and\":\"och\", \"happy\":gott\", \"new\":\"nytt\", \"year\":\"år\"} and\n",
    "use it to translate your Christmas cards from English into Swedish. That is, write a function translate()\n",
    "that takes a list of English words and returns a list of Swedish words. \"\"\"\n",
    "\n",
    "def translate(english_word):\n",
    "    dic = {\"merry\":\"god\",\"christmas\":\"jul\", \"and\":\"och\", \"happy\":\"gott\",\"new\":\"nytt\", \"year\":\"år\"}\n",
    "    lst = []\n",
    "    for word in english_word:\n",
    "           lst.append(dic[word])\n",
    "    return lst\n",
    "           \n",
    "translate([\"merry\", \"happy\"])\n",
    "           \n",
    "    "
   ]
  },
  {
   "cell_type": "code",
   "execution_count": null,
   "metadata": {
    "collapsed": false
   },
   "outputs": [],
   "source": [
    "\"\"\"21. Write a function char_freq() that takes a string and builds a frequency listing of the characters contained\n",
    "in it. Represent the frequency listing as a Python dictionary. Try it with something like\n",
    "char_freq(\"abbabcbdbabdbdbabababcbcbab\"). \"\"\""
   ]
  },
  {
   "cell_type": "code",
   "execution_count": null,
   "metadata": {
    "collapsed": true
   },
   "outputs": [],
   "source": []
  },
  {
   "cell_type": "code",
   "execution_count": null,
   "metadata": {
    "collapsed": false
   },
   "outputs": [],
   "source": [
    "\"\"\"Write a procedure, shift, which takes as its input a lowercase letter,\n",
    "a-z and returns the next letter in the alphabet after it, with 'a' \n",
    "following 'z'.\"\"\" \n",
    "\n",
    "def shift(letter):\n",
    "    x = ord(letter)\n",
    "    if letter == 'z':\n",
    "        return 'a'\n",
    "    else:\n",
    "        return chr(x + 1)\n",
    "    \n",
    "print (shift('a'))\n",
    "print (shift('z'))\n",
    "print (shift('i'))"
   ]
  },
  {
   "cell_type": "code",
   "execution_count": null,
   "metadata": {
    "collapsed": false
   },
   "outputs": [],
   "source": [
    "\"\"\"Write a procedure, shift_n_letters which takes as its input a lowercase\n",
    "letter, a-z, and an integer n, and returns the letter n steps in the\n",
    "alphabet after it. Note that 'a' follows 'z', and that n can be positive,\n",
    "negative or zero.\"\"\"\n",
    "\n",
    "def shift_n_letters(letter, n):\n",
    "    n = n % 26\n",
    "    result = chr(ord(letter) + n)\n",
    "    if ord(result) > 122:\n",
    "        return chr(96 + ord(result) - 122)\n",
    "    return result\n",
    "\n",
    "print (shift_n_letters('b', 10))\n",
    "print (shift_n_letters('z', 8))\n",
    "print (shift_n_letters('a', -1))"
   ]
  },
  {
   "cell_type": "code",
   "execution_count": null,
   "metadata": {
    "collapsed": false
   },
   "outputs": [],
   "source": [
    "\"\"\"Define a procedure to get factorial of n.\"\"\"\n",
    "def factorial(n):\n",
    "    result = 1\n",
    "    if n == 0:\n",
    "        return 1\n",
    "    else:\n",
    "        while n > 0:\n",
    "            result = result * n\n",
    "            n = n-1\n",
    "        return result\n",
    "print (factorial(6))\n",
    "\n",
    "#using reccursive procedure\n",
    "def fact_orial(n):\n",
    "    if n == 0 or n == 1:\n",
    "        return 1\n",
    "    else:\n",
    "        return fact_orial(n) * fact_orial(n-1)\n",
    "    \n",
    "print (factorial(6))"
   ]
  },
  {
   "cell_type": "code",
   "execution_count": null,
   "metadata": {
    "collapsed": false
   },
   "outputs": [],
   "source": [
    "import re\n",
    "\n",
    "re.findall(r\"[a-z]+[0-9]\", \"Harry D'souza is a gangster91 and 9\")\n"
   ]
  },
  {
   "cell_type": "code",
   "execution_count": null,
   "metadata": {
    "collapsed": false
   },
   "outputs": [],
   "source": [
    "\"\"\"22. In cryptography, a Caesar cipher is a very simple encryption techniques in which each letter in the plain text\n",
    "is replaced by a letter some fixed number of positions down the alphabet. For example, with a shift of 3, A\n",
    "would be replaced by D, B would become E, and so on. The method is named after Julius Caesar, who\n",
    "used it to communicate with his generals. ROT13\n",
    "(\"rotate by 13 places\") is a widely used example of a\n",
    "Caesar cipher where the shift is 13. In Python, the key for ROT13\n",
    "may be represented by means of the\n",
    "following dictionary:\n",
    "key = {'a':'n', 'b':'o', 'c':'p', 'd':'q', 'e':'r', 'f':'s', 'g':'t',\n",
    "'h':'u',\n",
    "'i':'v', 'j':'w', 'k':'x', 'l':'y', 'm':'z', 'n':'a', 'o':'b',\n",
    "'p':'c',\n",
    "'q':'d', 'r':'e', 's':'f', 't':'g', 'u':'h', 'v':'i', 'w':'j',\n",
    "'x':'k',\n",
    "'y':'l', 'z':'m', 'A':'N', 'B':'O', 'C':'P', 'D':'Q', 'E':'R',\n",
    "'F':'S',\n",
    "'G':'T', 'H':'U', 'I':'V', 'J':'W', 'K':'X', 'L':'Y', 'M':'Z',\n",
    "'N':'A',\n",
    "'O':'B', 'P':'C', 'Q':'D', 'R':'E', 'S':'F', 'T':'G', 'U':'H',\n",
    "'V':'I',\n",
    "'W':'J', 'X':'K', 'Y':'L', 'Z':'M'}\n",
    "Your task in this exercise is to implement an encoder/decoder of ROT13.\n",
    "Once you're done, you will be\n",
    "able to read the following secret message:\n",
    "Pnrfne pvcure? V zhpu cersre Pnrfne fnynq!\n",
    "Note that since English has 26 characters, your ROT13\n",
    "program will be able to both encode and decode\n",
    "texts written in English. \"\"\"\n",
    "\n",
    "\n",
    "def ROT13(word):\n",
    "    key = {'a':'n', 'b':'o', 'c':'p', 'd':'q', 'e':'r', 'f':'s', 'g':'t',\n",
    "'h':'u',\n",
    "'i':'v', 'j':'w', 'k':'x', 'l':'y', 'm':'z', 'n':'a', 'o':'b',\n",
    "'p':'c',\n",
    "'q':'d', 'r':'e', 's':'f', 't':'g', 'u':'h', 'v':'i', 'w':'j',\n",
    "'x':'k',\n",
    "'y':'l', 'z':'m', 'A':'N', 'B':'O', 'C':'P', 'D':'Q', 'E':'R',\n",
    "'F':'S',\n",
    "'G':'T', 'H':'U', 'I':'V', 'J':'W', 'K':'X', 'L':'Y', 'M':'Z',\n",
    "'N':'A',\n",
    "'O':'B', 'P':'C', 'Q':'D', 'R':'E', 'S':'F', 'T':'G', 'U':'H',\n",
    "'V':'I',\n",
    "'W':'J', 'X':'K', 'Y':'L', 'Z':'M'}\n",
    "    \n",
    "    code  = \"\"\n",
    "    for letter in word:\n",
    "        try:\n",
    "            code = code + key[letter]\n",
    "        except:\n",
    "            code = code + letter\n",
    "    return code\n",
    "\n",
    "ROT13(\"Pnrfne pvcure? V zhpu cersre Pnrfne fnynq!\")\n",
    "    \n",
    "\n",
    "\n",
    "\n"
   ]
  },
  {
   "cell_type": "code",
   "execution_count": null,
   "metadata": {
    "collapsed": true
   },
   "outputs": [],
   "source": [
    "#IInd method \n",
    "import string\n",
    "\n",
    "lowercase_normal = list(string.ascii_lowercase)\n",
    "lowercase_encode = [chr(((ord(c)+ 13 - ord('a'))% 26) + ord(\"a\")) for c in lowercase_normal]    \n",
    "uppercase_normal = list(string.ascii_uppercase)\n",
    "uppercase_encode = [chr(((ord(c) + 13 - ord('A'))% 26)+ ord(\"A\")) for c in uppercase_normal]\n",
    "\n",
    "\n"
   ]
  },
  {
   "cell_type": "code",
   "execution_count": 6,
   "metadata": {
    "collapsed": false
   },
   "outputs": [
    {
     "name": "stdout",
     "output_type": "stream",
     "text": [
      "Do you wish to encrypt or decrypt or brute force a message?\n",
      "b\n",
      "Enter your message:\n",
      "befor anyone else\n",
      "1 adenq zmxnmd dkrd\n",
      "2 zcdmp ylwmlc cjqc\n",
      "3 ybclo xkvlkb bipb\n",
      "4 xabkn wjukja ahoa\n",
      "5 wzajm vitjiz zgnz\n",
      "6 vyzil uhsihy yfmy\n",
      "7 uxyhk tgrhgx xelx\n",
      "8 twxgj sfqgfw wdkw\n",
      "9 svwfi repfev vcjv\n",
      "10 ruveh qdoedu ubiu\n",
      "11 qtudg pcndct taht\n",
      "12 pstcf obmcbs szgs\n",
      "13 orsbe nalbar ryfr\n",
      "14 nqrad mzkazq qxeq\n",
      "15 mpqzc lyjzyp pwdp\n",
      "16 lopyb kxiyxo ovco\n",
      "17 knoxa jwhxwn nubn\n",
      "18 jmnwz ivgwvm mtam\n",
      "19 ilmvy hufvul lszl\n",
      "20 hklux gteutk kryk\n",
      "21 gjktw fsdtsj jqxj\n",
      "22 fijsv ercsri ipwi\n",
      "23 ehiru dqbrqh hovh\n",
      "24 dghqt cpaqpg gnug\n",
      "25 cfgps bozpof fmtf\n",
      "26 befor anyone else\n"
     ]
    }
   ],
   "source": [
    "MAX_KEY_SIZE = 26\n",
    "\n",
    "\n",
    "\n",
    "\n",
    "\n",
    "def getMode():\n",
    "    while True:\n",
    "        print('Do you wish to encrypt or decrypt or brute force a message?')\n",
    "\n",
    "        mode = input().lower()\n",
    "\n",
    "        if mode in 'encrypt e decrypt d brute b'.split():\n",
    "            return mode[0]\n",
    "\n",
    "        else:\n",
    "            print('Enter either \"encrypt\" or \"e\" or \"decrypt\" or \"d\" or \"brute\" or \"b\".')\n",
    "\n",
    "        \n",
    "def getMessage():\n",
    "    print('Enter your message:')\n",
    "    return input()\n",
    "\n",
    "\n",
    "def getKey():\n",
    "    key = 0\n",
    "\n",
    "    while True:\n",
    "        print('Enter the key number (1-%s)' % (MAX_KEY_SIZE))\n",
    "\n",
    "        key = int(input())\n",
    "\n",
    "        if (key >= 1 and key <= MAX_KEY_SIZE):\n",
    "\n",
    "            return key\n",
    "\n",
    "\n",
    "def getTranslatedMessage(mode, message, key):\n",
    "    if mode[0] == 'd':\n",
    "\n",
    "        key = -key\n",
    "\n",
    "        translated = ''\n",
    "\n",
    "\n",
    "\n",
    "    for symbol in message:\n",
    "        if symbol.isalpha():\n",
    "\n",
    "            num = ord(symbol)\n",
    "\n",
    "            num += key\n",
    "\n",
    "\n",
    "\n",
    "            if symbol.isupper():\n",
    "                if num > ord('Z'):\n",
    "                    num -= 26\n",
    "\n",
    "                elif num < ord('A'):\n",
    "                    num += 26\n",
    "\n",
    "            elif symbol.islower():\n",
    "                if num > ord('z'):\n",
    "                    num -= 26\n",
    "\n",
    "                elif num < ord('a'):\n",
    "\n",
    "                    num += 26\n",
    "                    \n",
    "            translated += chr(num)\n",
    "\n",
    "        else:\n",
    "            translated += symbol\n",
    "\n",
    "    return translated\n",
    "  \n",
    "\n",
    "    \n",
    "\n",
    "mode = getMode()\n",
    "\n",
    "message = getMessage()\n",
    "if mode[0] != 'b':\n",
    "\n",
    "    key = getKey()\n",
    "    \n",
    "    print('Your translated text is:')\n",
    "\n",
    "if mode[0] != 'b':\n",
    "    print(getTranslatedMessage(mode, message, key))\n",
    "\n",
    "else:\n",
    "    for key in range(1, MAX_KEY_SIZE + 1):\n",
    "        print(key, getTranslatedMessage('decrypt', message, key))\n",
    "\n",
    "    \n",
    "\n",
    "\n",
    "\n",
    "\n",
    "\n"
   ]
  },
  {
   "cell_type": "code",
   "execution_count": null,
   "metadata": {
    "collapsed": false
   },
   "outputs": [],
   "source": [
    "import string\n",
    "print (string.ascii_lowercase)"
   ]
  },
  {
   "cell_type": "code",
   "execution_count": null,
   "metadata": {
    "collapsed": false
   },
   "outputs": [],
   "source": [
    "#How many days old question\n",
    "\n",
    "import time \n",
    "from datetime import date\n",
    "\n",
    "def daysBetweenDates(year1, month1, day1, year2, month2, day2):\n",
    "    \n",
    "    today = date(year2, month2, day2)\n",
    "    \n",
    "    bDay = date(year1, month1, day1)\n",
    "    \n",
    "    time_to_today = abs(bDay - today)\n",
    "    \n",
    "    return time_to_today.days\n",
    "\n",
    "print(daysBetweenDates(1992, 11, 20, 2017, 7, 7))\n"
   ]
  },
  {
   "cell_type": "code",
   "execution_count": null,
   "metadata": {
    "collapsed": false
   },
   "outputs": [],
   "source": [
    "# Define a procedure, pick_one, that takes three inputs: a Boolean \n",
    "# and two other values. If the first input is True, it should return \n",
    "# the second input. If the first input is False, it should return the \n",
    "# third input.\n",
    "\n",
    "# For example, pick_one(True, 37, 'hello') should return 37, and\n",
    "# pick_one(False, 37, 'hello') should return 'hello'.\n",
    "\n",
    "def pick_one(a, b, c):\n",
    "    if a == True:\n",
    "        return b\n",
    "    else:\n",
    "        return c\n",
    "print (pick_one(True, 37, 'hello'))\n",
    "print (pick_one(False, 'sunny', 'rainy'))"
   ]
  },
  {
   "cell_type": "code",
   "execution_count": null,
   "metadata": {
    "collapsed": false
   },
   "outputs": [],
   "source": [
    "# The triangular numbers are the numbers 1, 3, 6, 10, 15, 21, ...\n",
    "# They are calculated as follows.\n",
    "\n",
    "# 1\n",
    "# 1 + 2 = 3\n",
    "# 1 + 2 + 3 = 6\n",
    "# 1 + 2 + 3 + 4 = 10\n",
    "# 1 + 2 + 3 + 4 + 5 = 15\n",
    "\n",
    "# Write a procedure, triangular, that takes as its input a positive \n",
    "# integer n and returns the nth triangular number.\n",
    "\n",
    "\n",
    "def triangular(n):\n",
    "    result = 0\n",
    "    for num in range(1, n+1):\n",
    "        result += num\n",
    "    return result\n",
    "\n",
    "print (triangular(1))\n",
    "#>>>1\n",
    "\n",
    "print (triangular(3))\n",
    "#>>> 6\n",
    "\n",
    "print (triangular(10))\n",
    "#>>> 55\n",
    "    "
   ]
  },
  {
   "cell_type": "code",
   "execution_count": null,
   "metadata": {
    "collapsed": false
   },
   "outputs": [],
   "source": [
    "# Question 4: Remove Tags\n",
    "\n",
    "# When we add our words to the index, we don't really want to include\n",
    "# html tags such as <body>, <head>, <table>, <a href=\"...\"> and so on.\n",
    "\n",
    "# Write a procedure, remove_tags, that takes as input a string and returns\n",
    "# a list of words, in order, with the tags removed. Tags are defined to be\n",
    "# strings surrounded by < >. Words are separated by whitespace or tags. \n",
    "# You may assume the input does not include any unclosed tags, that is,  \n",
    "# there will be no '<' without a following '>'.\n",
    "\n",
    "def remove_tags(string):\n",
    "    start = string.find('<')\n",
    "    while start != -1:\n",
    "        end = string.find('>', start)\n",
    "        string = string[:start] + \" \" + string[end+1:]\n",
    "        start = string.find('<')\n",
    "    return string.split()\n",
    "    \n",
    "    \n",
    "\n",
    "\n",
    "print (remove_tags('''<h1>Title</h1><p>This is a\n",
    "                    <a href=\"http://www.udacity.com\">link</a>.<p>'''))\n",
    "#>>> ['Title','This','is','a','link','.']\n",
    "\n",
    "print (remove_tags('''<table cellpadding='3'>\n",
    "                     <tr><td>Hello</td><td>World!</td></tr>\n",
    "                     </table>'''))\n",
    "#>>> ['Hello','World!']\n",
    "\n",
    "print (remove_tags(\"<hello><goodbye>\"))\n",
    "#>>> []\n",
    "\n",
    "print (remove_tags(\"This is plain text.\"))\n",
    "#>>> ['This', 'is', 'plain', 'text.']"
   ]
  },
  {
   "cell_type": "code",
   "execution_count": null,
   "metadata": {
    "collapsed": false
   },
   "outputs": [],
   "source": [
    "# Question 5: Date Converter\n",
    "\n",
    "# Write a procedure date_converter which takes two inputs. The first is \n",
    "# a dictionary and the second a string. The string is a valid date in \n",
    "# the format month/day/year. The procedure should return\n",
    "# the date written in the form <day> <name of month> <year>.\n",
    "# For example , if the\n",
    "# dictionary is in English,\n",
    "\n",
    "english = {1:\"January\", 2:\"February\", 3:\"March\", 4:\"April\", 5:\"May\", \n",
    "6:\"June\", 7:\"July\", 8:\"August\", 9:\"September\",10:\"October\", \n",
    "11:\"November\", 12:\"December\"}\n",
    "\n",
    "# then  \"5/11/2012\" should be converted to \"11 May 2012\". \n",
    "# If the dictionary is in Swedish\n",
    "\n",
    "swedish = {1:\"januari\", 2:\"februari\", 3:\"mars\", 4:\"april\", 5:\"maj\", \n",
    "6:\"juni\", 7:\"juli\", 8:\"augusti\", 9:\"september\",10:\"oktober\", \n",
    "11:\"november\", 12:\"december\"}\n",
    "\n",
    "# then \"5/11/2012\" should be converted to \"11 maj 2012\".\n",
    "\n",
    "# Hint: int('12') converts the string '12' to the integer 12.\n",
    "\n",
    "def date_converter(lang, date):\n",
    "    month, day, year = date.split(\"/\")\n",
    "    return day + \" \" + lang[int(month)] + \" \" + year\n",
    "\n",
    "\n",
    "print (date_converter(english, '5/11/2012'))\n",
    "#>>> 11 May 2012\n",
    "\n",
    "print (date_converter(english, '5/11/12'))\n",
    "#>>> 11 May 12\n",
    "\n",
    "print (date_converter(swedish, '5/11/2012'))\n",
    "#>>> 11 maj 2012\n"
   ]
  },
  {
   "cell_type": "code",
   "execution_count": null,
   "metadata": {
    "collapsed": false
   },
   "outputs": [],
   "source": [
    "# Question 7: Find and Replace\n",
    "\n",
    "# For this question you need to define two procedures:\n",
    "#  make_converter(match, replacement)\n",
    "#     Takes as input two strings and returns a converter. It doesn't have\n",
    "#     to make a specific type of thing. It can \n",
    "#     return anything you would find useful in apply_converter.\n",
    "#  apply_converter(converter, string)\n",
    "#     Takes as input a converter (produced by make_converter), and \n",
    "#     a string, and returns the result of applying the converter to the \n",
    "#     input string. This replaces all occurrences of the match used to \n",
    "#     build the converter, with the replacement.  It keeps doing \n",
    "#     replacements until there are no more opportunities for replacements.\n",
    "\n",
    "\n",
    "def make_converter(match, replacement):\n",
    "    return [match, replacement]\n",
    "\n",
    "\n",
    "\n",
    "def apply_converter(converter, string):\n",
    "    previous =None\n",
    "    while previous != string:\n",
    "        previous = string\n",
    "        position = string.find(converter[0])\n",
    "        if position != -1:\n",
    "            string = string[:position] + converter[1] + string[position + len(converter[0]):]\n",
    "    return string\n",
    "    \n",
    "\n",
    "\n",
    "\n",
    "# For example,\n",
    "\n",
    "c1 = make_converter('aa', 'a')\n",
    "print (apply_converter(c1, 'aaaa'))\n",
    "#>>> a\n",
    "\n",
    "c = make_converter('aba', 'b')\n",
    "print (apply_converter(c, 'aaaaaabaaaaa'))\n",
    "#>>> ab\n"
   ]
  },
  {
   "cell_type": "code",
   "execution_count": 6,
   "metadata": {
    "collapsed": false
   },
   "outputs": [
    {
     "name": "stdout",
     "output_type": "stream",
     "text": [
      "[3]\n",
      "['b']\n",
      "[1]\n",
      "[None]\n"
     ]
    }
   ],
   "source": [
    "# Question 8: Longest Repetition\n",
    "\n",
    "# Define a procedure, longest_repetition, that takes as input a \n",
    "# list, and returns the element in the list that has the most \n",
    "# consecutive repetitions. If there are multiple elements that \n",
    "# have the same number of longest repetitions, the result should \n",
    "# be the one that appears first. If the input list is empty, \n",
    "# it should return None.\n",
    "\n",
    "def longest_repetition(input_list):\n",
    "    best_element = None\n",
    "    length = 0\n",
    "    current = None\n",
    "    current_length = 0\n",
    "    for element in input_list:\n",
    "        if current != element:\n",
    "            current = element\n",
    "            current_length = 1\n",
    "        else:\n",
    "            current_length += 1\n",
    "        if current_length > length:\n",
    "            best_element = current\n",
    "            length = current_length\n",
    "    return [best_element]\n",
    "\n",
    "\n",
    "#For example,\n",
    "\n",
    "print (longest_repetition([1, 2, 2, 3, 3, 3,3, 2, 2, 1]))\n",
    "# 3\n",
    "\n",
    "print (longest_repetition(['a', 'b', 'b', 'b', 'c', 'd', 'd', 'd']))\n",
    "# b\n",
    "\n",
    "print (longest_repetition([1,2,3,4,5]))\n",
    "# 1\n",
    "\n",
    "print (longest_repetition([]))\n",
    "# None\n",
    "\n"
   ]
  },
  {
   "cell_type": "code",
   "execution_count": 37,
   "metadata": {
    "collapsed": false
   },
   "outputs": [
    {
     "data": {
      "text/plain": [
       "'ya'"
      ]
     },
     "execution_count": 37,
     "metadata": {},
     "output_type": "execute_result"
    }
   ],
   "source": [
    "data = \"Bulleya\"\n",
    "data[-2:]"
   ]
  },
  {
   "cell_type": "code",
   "execution_count": null,
   "metadata": {
    "collapsed": true
   },
   "outputs": [],
   "source": [
    "\"\"\"23. Define a simple \"spelling correction\" function correct() that takes a string and sees to it that 1) two or\n",
    "more occurrences of the space character is compressed into one, and 2) inserts an extra space after a\n",
    "period if the period is directly followed by a letter. \n",
    "E.g. correct(\"This is very funny and                         cool.Indeed!\")\n",
    "should return \"This is very funny and cool. Indeed!\" Tip: Use regular\n",
    "expressions! \"\"\"\n",
    "\n",
    "import re\n",
    "\n",
    "regex = \"\"\n",
    "\n"
   ]
  },
  {
   "cell_type": "code",
   "execution_count": null,
   "metadata": {
    "collapsed": false
   },
   "outputs": [],
   "source": [
    "\"\"\"24. The third person singular verb form in English is distinguished by the suffix s,\n",
    "which is added to the stem of\n",
    "the infinitive form: run >\n",
    "runs. A simple set of rules can be given as follows:\n",
    "1. If the verb ends in y, remove it and add ies\n",
    "2. If the verb ends in o, ch, s, sh, x or z, add es\n",
    "3. By default just add s\n",
    "Your task in this exercise is to define a function make_3sg_form() which given a verb in infinitive form\n",
    "returns its third person singular form. Test your function with words like try, brush, run and fix. Note however\n",
    "that the rules must be regarded as heuristic, in the sense that you must not expect them to work for all\n",
    "cases. Tip: Check out the string method endswith(). \"\"\"\n",
    "\n",
    "conj = ('o', 'ch', 's', 'sh', 'x', 'z')\n",
    "\n",
    "def make_3sv(word):\n",
    "    if word.endswith('y'):\n",
    "        word = word[:-1] + \"ies\"\n",
    "        \n",
    "    elif word.endswith(conj):  #endswith accepts tuples only not list\n",
    "        word +=\"es\"\n",
    "       \n",
    "    else:\n",
    "        word += \"s\"\n",
    "        \n",
    "    return word\n",
    "\n",
    "verbs = [\"try\", \"push\", \"beach\", \"fix\"]\n",
    "print (list(map(make_3sv, verbs)))       \n",
    "    \n"
   ]
  },
  {
   "cell_type": "code",
   "execution_count": 7,
   "metadata": {
    "collapsed": false
   },
   "outputs": [
    {
     "name": "stdout",
     "output_type": "stream",
     "text": [
      "['lying', 'seeing', 'moving', 'hugging', 'studying', 'rubbing', 'escaping', 'staring']\n"
     ]
    }
   ],
   "source": [
    "\"\"\"25. In English, the present participle is formed by adding the suffix ing\n",
    "to the infinite form: go >\n",
    "going. A simple\n",
    "set of heuristic rules can be given as follows:\n",
    "1. If the verb ends in e, drop the e and add ing (if not exception: be, see, flee, knee, etc.)\n",
    "2. If the verb ends in ie, change ie to y and add ing\n",
    "3. For words consisting of consonantvowelconsonant,\n",
    "double the final letter before adding ing\n",
    "4. By default just add ing\n",
    "Your task in this exercise is to define a function make_ing_form() which given a verb in infinitive form\n",
    "returns its present participle form. Test your function with words such as lie, see, move and hug. However,\n",
    "you must not expect such simple rules to work for all cases. \"\"\"\n",
    "\n",
    "import string\n",
    "\n",
    "vowels = ['a', 'e', 'i', 'o', 'u']\n",
    "exception = ['be', 'see', 'flee', 'knee']\n",
    "letter = string.ascii_lowercase\n",
    "consonant = [c for c in letter if c not in vowels]\n",
    "\n",
    "def make_ing_form(word):\n",
    "    if word.endswith('ie'):\n",
    "        word = word[:-2] + 'ying'\n",
    "    elif word.endswith('e'):\n",
    "        if word in exception:\n",
    "            word += \"ing\"\n",
    "        else:\n",
    "            word = word[:-1] + \"ing\"\n",
    "        \n",
    "    elif word[-1] in consonant and word[-2] in vowels and word[-3]in consonant:\n",
    "        word = word + word[-1] + \"ing\"\n",
    "    else:\n",
    "        word = word + \"ing\"\n",
    "    return word\n",
    "        \n",
    "verb = ['lie', 'see', 'move', 'hug', 'study','rub', 'escape', 'stare']\n",
    "print(list(map(make_ing_form, verb)))\n"
   ]
  },
  {
   "cell_type": "code",
   "execution_count": null,
   "metadata": {
    "collapsed": false
   },
   "outputs": [],
   "source": [
    "\"\"\"26. Using the higher order function reduce(), write a function max_in_list() that takes a list of numbers\n",
    "and returns the largest one. Then ask yourself: why define and call a new function, when I can just as well\n",
    "call the reduce() function directly? \"\"\"\n",
    "\n",
    "from functools import reduce\n",
    "\n",
    "def max_in_list(lst_num):\n",
    "    return reduce(lambda a,b : a if a > b else b, lst_num)\n",
    "\n",
    "numbers_list = [1,4,7,3,56,733,778,3443,525,6,3,2,11,11,133,546]\n",
    "\n",
    "print(max_in_list(numbers_list))\n",
    "\n"
   ]
  },
  {
   "cell_type": "code",
   "execution_count": 9,
   "metadata": {
    "collapsed": false
   },
   "outputs": [
    {
     "name": "stdout",
     "output_type": "stream",
     "text": [
      "Enter your card no: 375987654321001\n",
      " 38\n",
      "Invalid\n"
     ]
    }
   ],
   "source": [
    "def credit_card_validity():\n",
    "    result1 = 0 \n",
    "    result2 = 0\n",
    "    evaluate = 0\n",
    "    total = \" \"\n",
    "    card_num = str(input(\"Enter your card no: \" ))\n",
    "    try:\n",
    "        if len(card_num) == 15: \n",
    "            for i in range(1,len(card_num),2):\n",
    "                \n",
    "                if int(card_num[i]) * 2 > 9:\n",
    "                    evaluate = evaluate + 1 + (int(card_num[i])*2-10)\n",
    "        \n",
    "                else:\n",
    "                    result1 = result1 + int(card_num[i])*2 \n",
    "       \n",
    "            for k in range(0,len(card_num),2):\n",
    "                    result2 = result2 + int(card_num[k])\n",
    "                \n",
    "                \n",
    "            total += str(result1 + result2 + evaluate)\n",
    "            print (total)\n",
    "       \n",
    "            if total[-1] == \"0\":\n",
    "                print (\"AMEX\")\n",
    "            else:\n",
    "                print (\"Invalid\")\n",
    "\n",
    "       \n",
    "                  \n",
    "    except ValueError:\n",
    "        print(\"Invalid card!\")\n",
    "        \n",
    "        \n",
    "    \n",
    "        \n",
    "\n",
    "credit_card_validity() \n",
    "\n",
    "\n",
    "\n",
    "    \n",
    "        \n",
    "    \n",
    "    \n",
    "    "
   ]
  },
  {
   "cell_type": "code",
   "execution_count": 1,
   "metadata": {
    "collapsed": false
   },
   "outputs": [
    {
     "name": "stdout",
     "output_type": "stream",
     "text": [
      "('b', 'f', 'a', 'i', 'j', 'h', 'g', 'e', 'd', 'c')\n"
     ]
    }
   ],
   "source": [
    "from itertools import permutations\n",
    "for string in permutations(\"bfaijhgedc\"):\n",
    "        print (string)\n",
    "        break"
   ]
  },
  {
   "cell_type": "code",
   "execution_count": 20,
   "metadata": {
    "collapsed": false
   },
   "outputs": [
    {
     "data": {
      "text/plain": [
       "{'David': 5, 'Qazi': 4, 'Rob': 3, 'Sarah': 5, 'Zamayla': 7}"
      ]
     },
     "execution_count": 20,
     "metadata": {},
     "output_type": "execute_result"
    }
   ],
   "source": [
    "\"\"\"27. Write a program that maps a list of words into a list of integers representing the lengths of the correponding\n",
    "words. Write it in three different ways:\n",
    "1) using a forloop,\n",
    "2) using the higher order function map(), and\n",
    "3) using list comprehensions.\"\"\"\n",
    "\n",
    "word_lists = [\"David\", \"Zamayla\", \"Rob\", \"Sarah\", \"Qazi\"]\n",
    "\n",
    "#1st method\n",
    "def words_to_integers(list_words):\n",
    "    maps_length = {}\n",
    "    for word in list_words:\n",
    "        maps_length[word] = len(word)\n",
    "    return maps_length\n",
    "#words_to_integers(word_lists)\n",
    "\n",
    "\n",
    "#2nd method\n",
    "def words_to_integers(list_words):\n",
    "    maps_length = list(map(lambda x : len(x), list_words))\n",
    "    return dict(zip(list_words, maps_length))\n",
    "\n",
    "#words_to_integers(word_lists)\n",
    "\n",
    "\n",
    "#3rd method\n",
    "def words_to_integers(list_of_words):\n",
    "    maps_length = [len(word) for word in list_of_words]\n",
    "    return dict(zip(list_of_words, maps_length))\n",
    "\n",
    "\n",
    "words_to_integers(word_lists)    \n",
    "\n",
    "    \n",
    "\n",
    "\n"
   ]
  },
  {
   "cell_type": "code",
   "execution_count": 3,
   "metadata": {
    "collapsed": false,
    "scrolled": true
   },
   "outputs": [
    {
     "name": "stdout",
     "output_type": "stream",
     "text": [
      "7\n"
     ]
    }
   ],
   "source": [
    "\"\"\"28. Write a function find_longest_word() that takes a list of words and returns the length of the longest\n",
    "one. Use only higher order functions. \"\"\"\n",
    "\n",
    "word_lists = [\"David\", \"Zamayla\", \"Rob\", \"Sarah\", \"Qazi\"]\n",
    "\n",
    "longest_in_list = [len(word) for word in word_lists]\n",
    "print (max(longest_in_list))"
   ]
  },
  {
   "cell_type": "code",
   "execution_count": 36,
   "metadata": {
    "collapsed": false
   },
   "outputs": [
    {
     "data": {
      "text/plain": [
       "['David', 'Zamayla', 'Sarah']"
      ]
     },
     "execution_count": 36,
     "metadata": {},
     "output_type": "execute_result"
    }
   ],
   "source": [
    "\"\"\"29. Using the higher order function filter(), define a function filter_long_words() that takes a list of\n",
    "words and an integer n and returns the list of words that are longer than n.\"\"\"\n",
    "\n",
    "def filter_long_words(list_words, n):\n",
    "    filtered_word = list(filter(lambda x : len(x) > n ,list_words))\n",
    "    return filtered_word\n",
    "\n",
    "filter_long_words(word_lists, 4)\n",
    "\n",
    "\n",
    "\n",
    "\n"
   ]
  },
  {
   "cell_type": "code",
   "execution_count": 41,
   "metadata": {
    "collapsed": false
   },
   "outputs": [
    {
     "data": {
      "text/plain": [
       "['god', 'jul']"
      ]
     },
     "execution_count": 41,
     "metadata": {},
     "output_type": "execute_result"
    }
   ],
   "source": [
    "\"\"\"30. Represent a small bilingual lexicon as a Python dictionary in the following fashion {\"merry\":\"god\",\n",
    "\"christmas\":\"jul\", \"and\":\"och\", \"happy\":gott\", \"new\":\"nytt\", \"year\":\"år\"} and\n",
    "use it to translate your Christmas cards from English into Swedish. Use the higher order function map() to\n",
    "write a function translate() that takes a list of English words and returns a list of Swedish words.\"\"\"\n",
    "\n",
    "translator = {\"merry\":\"god\",\"christmas\":\"jul\", \"and\":\"och\", \"happy\":\"gott\", \"new\":\"nytt\", \"year\":\"år\"}\n",
    "\n",
    "def translate(english_words):\n",
    "    translate_word = list(map(lambda x : translator[x] if x in translator else False, english_words))\n",
    "    return translate_word\n",
    "\n",
    "english_words = [\"merry\", \"christmas\"]\n",
    "translate(english_words)"
   ]
  },
  {
   "cell_type": "code",
   "execution_count": 1,
   "metadata": {
    "collapsed": false
   },
   "outputs": [
    {
     "data": {
      "text/plain": [
       "'32. Write a version of a palindrome recogniser that accepts a file name from the user, reads each line, and\\nprints the line to the screen if it is a palindrome. '"
      ]
     },
     "execution_count": 1,
     "metadata": {},
     "output_type": "execute_result"
    }
   ],
   "source": [
    "\"\"\"32. Write a version of a palindrome recogniser that accepts a file name from the user, reads each line, and\n",
    "prints the line to the screen if it is a palindrome. \"\"\"\n",
    "\n"
   ]
  },
  {
   "cell_type": "code",
   "execution_count": 2,
   "metadata": {
    "collapsed": false
   },
   "outputs": [
    {
     "ename": "SyntaxError",
     "evalue": "unexpected EOF while parsing (<ipython-input-2-a4ab8fd6b80f>, line 5)",
     "output_type": "error",
     "traceback": [
      "\u001b[0;36m  File \u001b[0;32m\"<ipython-input-2-a4ab8fd6b80f>\"\u001b[0;36m, line \u001b[0;32m5\u001b[0m\n\u001b[0;31m    \u001b[0m\n\u001b[0m    ^\u001b[0m\n\u001b[0;31mSyntaxError\u001b[0m\u001b[0;31m:\u001b[0m unexpected EOF while parsing\n"
     ]
    }
   ],
   "source": [
    "l = [1,4,9]\n",
    "def sumsqares(l):\n",
    "    \n",
    "    \n",
    "    "
   ]
  },
  {
   "cell_type": "code",
   "execution_count": 48,
   "metadata": {
    "collapsed": false
   },
   "outputs": [
    {
     "data": {
      "text/plain": [
       "25"
      ]
     },
     "execution_count": 48,
     "metadata": {},
     "output_type": "execute_result"
    }
   ],
   "source": [
    "\"\"\" Write a function sumsquares(l) that takes as input a list of integers and retuns the sum of all the perfect squares in l.\n",
    "\n",
    "Here are some examples to show how your function should work.\"\"\"\n",
    "\n",
    "import math\n",
    "from math import *\n",
    "\n",
    "def sumsquares(l):\n",
    "    result = 0\n",
    "    for n in l:\n",
    "        if n%(sqrt(n)) == 0:\n",
    "            result = result + n\n",
    "        \n",
    "    return result\n",
    "\n",
    "\n",
    "sumsquares([3,9,12,16])"
   ]
  },
  {
   "cell_type": "code",
   "execution_count": 43,
   "metadata": {
    "collapsed": false
   },
   "outputs": [
    {
     "data": {
      "text/plain": [
       "2"
      ]
     },
     "execution_count": 43,
     "metadata": {},
     "output_type": "execute_result"
    }
   ],
   "source": [
    "\"\"\" Write a Python function depth(s) that takes a string containing an expression with parentheses and returns an integer,\n",
    "the nesting depth of s. You can assume that s is well-parenthesized: that is, that is, every \"(\" has a matching \")\" after it\n",
    "and every \")\" has a matching \"(\" before it.\n",
    " \"\"\"\n",
    "\n",
    "def depth(s):\n",
    "    result = 0\n",
    "    st = s.split(\")\")\n",
    "    for w in st[0:1]:\n",
    "        for c in w:\n",
    "            if c == \"(\":\n",
    "                result = result + 1\n",
    "    \n",
    "    return result\n",
    "depth(\"(a(b+c)-d)(e+f)\")"
   ]
  },
  {
   "cell_type": "code",
   "execution_count": 1,
   "metadata": {
    "collapsed": false
   },
   "outputs": [
    {
     "data": {
      "text/plain": [
       "True"
      ]
     },
     "execution_count": 1,
     "metadata": {},
     "output_type": "execute_result"
    }
   ],
   "source": [
    "\"\"\"A positive integer n is said to be perfect if the sum of the factors of n, other than n itself, add up to n.\n",
    "For instance 6 is perfect since the factors of 6 are {1,2,3,6} and 1+2+3=6.\n",
    "Likewise, 28 is perfect because the factors of 28 are {1,2,4,7,14,28} and 1+2+4+7+14=28.\n",
    "\n",
    "Write a Python function perfect(n) that takes a positive integer argument and returns True if the integer is perfect, \n",
    "and False otherwise.\n",
    " \"\"\"\n",
    "\n",
    "def perfect(n):\n",
    "    result = 0\n",
    "    value = []\n",
    "    for i in range(1,n):\n",
    "        if n % i == 0:\n",
    "            value.append(i)\n",
    "            \n",
    "    for num in value:\n",
    "        result = result + num \n",
    "        \n",
    "    return result == n\n",
    "\n",
    "perfect(6)"
   ]
  },
  {
   "cell_type": "code",
   "execution_count": 23,
   "metadata": {
    "collapsed": false
   },
   "outputs": [
    {
     "name": "stdout",
     "output_type": "stream",
     "text": [
      "Provide your full name: zamayla chan\n"
     ]
    },
    {
     "data": {
      "text/plain": [
       "'Z C'"
      ]
     },
     "execution_count": 23,
     "metadata": {},
     "output_type": "execute_result"
    }
   ],
   "source": [
    "import string\n",
    "name = str(input(\"Provide your full name: \"))\n",
    "def initials():\n",
    "    result= \"\"                  \n",
    "    name_split = name.split(\" \")\n",
    "    for w in name_split:\n",
    "        result = result + w[0:1]\n",
    "        \n",
    "    return result.upper()\n",
    "\n",
    "initials() \n",
    "        \n",
    "        \n",
    "def initials():              #use name.title()\n",
    "    word = name.title()                  \n",
    "    result = \"\"\n",
    "    for c in word:\n",
    "        if c == c.upper():\n",
    "            result = result + c     \n",
    "    return result\n",
    "\n",
    "initials() \n",
    "            \n",
    "                   \n",
    "        \n",
    "        \n",
    "        \n",
    "        \n",
    "    \n",
    "    "
   ]
  },
  {
   "cell_type": "code",
   "execution_count": 5,
   "metadata": {
    "collapsed": false
   },
   "outputs": [
    {
     "name": "stdout",
     "output_type": "stream",
     "text": [
      "Provide length of your password: 8\n"
     ]
    },
    {
     "data": {
      "text/plain": [
       "'5apsvzjd'"
      ]
     },
     "execution_count": 5,
     "metadata": {},
     "output_type": "execute_result"
    }
   ],
   "source": [
    "\"create any passwords randomally\"\n",
    "\n",
    "import random\n",
    "def password():\n",
    "    \n",
    "    pw = str()\n",
    "    characters = \"abcdefghijklmnopqrstuvwxyz0123456789@#!*&%$\"\n",
    "    try:\n",
    "        length = int(input(\"Provide length of your password: \"))\n",
    "        if length:\n",
    "            for i in range(length):\n",
    "                pw = pw + random.choice(characters)\n",
    "            return pw\n",
    "        else:\n",
    "            print (\"please provide an integer.\")\n",
    "    except ValueError:\n",
    "        print (\"please provide an integer.\")\n",
    "\n",
    "password()"
   ]
  },
  {
   "cell_type": "code",
   "execution_count": 26,
   "metadata": {
    "collapsed": false
   },
   "outputs": [
    {
     "name": "stdout",
     "output_type": "stream",
     "text": [
      "Please enter your docs: u\n",
      "{'u': 1}\n"
     ]
    }
   ],
   "source": [
    "import string\n",
    "input_string = str(input(\"Please enter your docs: \"))\n",
    "\n",
    "def counter(input_strings):   #a function which couts the no. of letters repeated in a string and stored in a ditcionary\n",
    "    count_letters = {} #create an empty dict objetc reference with variable count_string\n",
    "    for letter in input_string:\n",
    "        if letter.isalpha():\n",
    "\n",
    "            if letter in count_letters:\n",
    "                count_letters[letter] += 1\n",
    "            else:\n",
    "            \n",
    "                count_letters[letter] = 1\n",
    "    return count_letters\n",
    "\n",
    "counter(input_string)\n",
    "\n",
    "result = counter(input_string)\n",
    "print (result)\n"
   ]
  },
  {
   "cell_type": "code",
   "execution_count": 3,
   "metadata": {
    "collapsed": true
   },
   "outputs": [],
   "source": [
    "runs = {\"Test\":{\"Dhawan\":[190,14,35,119],\"Kohli\":[3,103,13,42],\"Pujara\":[153,15,133,8]},\"ODI\":{\"Dhawan\":[37],\"Kohli\":[63]}}\n"
   ]
  },
  {
   "cell_type": "code",
   "execution_count": 4,
   "metadata": {
    "collapsed": false
   },
   "outputs": [
    {
     "name": "stdout",
     "output_type": "stream",
     "text": [
      "{'Test': {'Dhawan': [190, 14, 35, 119], 'Kohli': [3, 103, 13, 42], 'Pujara': [153, 15, 133, 8]}, 'ODI': {'Dhawan': [37], 'Kohli': [63], 'Pujara': [44]}}\n"
     ]
    }
   ],
   "source": [
    "runs[\"ODI\"][\"Pujara\"]=[44]\n",
    "print (runs)"
   ]
  },
  {
   "cell_type": "code",
   "execution_count": 5,
   "metadata": {
    "collapsed": false
   },
   "outputs": [
    {
     "name": "stdout",
     "output_type": "stream",
     "text": [
      "[(2, 4, 5), (3, 3, 5), (3, 4, 5), (3, 4, 6)]\n"
     ]
    }
   ],
   "source": [
    "triples = [ (x,y,z) for x in range(1,4) for y in range(2,5) for z in range(5,8) if x+y > z ]\n",
    "\n",
    "print (triples)"
   ]
  },
  {
   "cell_type": "code",
   "execution_count": 21,
   "metadata": {
    "collapsed": false
   },
   "outputs": [
    {
     "data": {
      "text/plain": [
       "([7], [13, 14])"
      ]
     },
     "execution_count": 21,
     "metadata": {},
     "output_type": "execute_result"
    }
   ],
   "source": [
    "l = [13,12,11,13,14,13,7,11,13,14,12,14,14]\n",
    "def frequency(l):              #not correct algorithm try implementing you jerk!\n",
    "    min_list = []\n",
    "    max_list = []\n",
    "    result = {}\n",
    "    for i in l:\n",
    "        result[i] = l.count(i)\n",
    "\n",
    "    min_val = min(result.values())\n",
    "    for key in result.keys():\n",
    "        if result[key] == min_val:\n",
    "            min_list.append(key)\n",
    "        \n",
    "    max_val = max(result.values())\n",
    "    for key in result.keys():\n",
    "        if result[key] == max_val:\n",
    "            max_list.append(key)\n",
    "      \n",
    "    return ((sorted(min_list),sorted(max_list)))\n",
    "        \n",
    "\n",
    "\n",
    "frequency(l)\n",
    "\n"
   ]
  },
  {
   "cell_type": "code",
   "execution_count": 58,
   "metadata": {
    "collapsed": false
   },
   "outputs": [
    {
     "data": {
      "text/plain": [
       "-0.7312715117751976"
      ]
     },
     "execution_count": 58,
     "metadata": {},
     "output_type": "execute_result"
    }
   ],
   "source": [
    "import random\n",
    "\n",
    "random.seed(1) # This line fixes the value called by your function,\n",
    "               # and is used for answer-checking.\n",
    "\n",
    "def rand():\n",
    "    return (random.uniform(-1,1)) #create a function rand() that generates a single float between -1 and 1.\n",
    "\n",
    "rand()"
   ]
  },
  {
   "cell_type": "code",
   "execution_count": 10,
   "metadata": {
    "collapsed": false
   },
   "outputs": [
    {
     "name": "stdout",
     "output_type": "stream",
     "text": [
      "continue on the same line. same line.\n",
      "Next line.\n"
     ]
    }
   ],
   "source": [
    "print (\"continue on the same line.\", end = \" \")  # we have disable the default print new line\n",
    "print (\"same line\", end =\".\\n\")\n",
    "print (\"Next line.\")"
   ]
  },
  {
   "cell_type": "code",
   "execution_count": 34,
   "metadata": {
    "collapsed": false
   },
   "outputs": [
    {
     "data": {
      "text/plain": [
       "'##vivek reddy##'"
      ]
     },
     "execution_count": 34,
     "metadata": {},
     "output_type": "execute_result"
    }
   ],
   "source": [
    "s.center(15,\"#\")"
   ]
  },
  {
   "cell_type": "code",
   "execution_count": 64,
   "metadata": {
    "collapsed": false,
    "scrolled": true
   },
   "outputs": [
    {
     "name": "stdout",
     "output_type": "stream",
     "text": [
      "values:   48.242\n"
     ]
    }
   ],
   "source": [
    "print (\"values: {0:8.3f}\".format(48.2423))"
   ]
  },
  {
   "cell_type": "code",
   "execution_count": 65,
   "metadata": {
    "collapsed": false
   },
   "outputs": [
    {
     "name": "stdout",
     "output_type": "stream",
     "text": [
      "['A', '3', '4']\n"
     ]
    }
   ],
   "source": [
    "card = [\"AC\", \"3D\", \"4S\"]\n",
    "\n",
    "result = [r for r,s in card]\n",
    "print (result)"
   ]
  },
  {
   "cell_type": "code",
   "execution_count": 1,
   "metadata": {
    "collapsed": false
   },
   "outputs": [
    {
     "name": "stdout",
     "output_type": "stream",
     "text": [
      "[(3, 2)]\n",
      "[(2, 1)]\n"
     ]
    }
   ],
   "source": [
    "l=[(2,3),(1,2)]\n",
    "for i,j in l:\n",
    "    print ([(j,i)])"
   ]
  },
  {
   "cell_type": "code",
   "execution_count": null,
   "metadata": {
    "collapsed": false,
    "scrolled": true
   },
   "outputs": [],
   "source": [
    "file1 = input(\"give your input file: \")\n",
    "grade = {\"A\": 10, \"AB\": 9, \"B\": 8,\"BC\": 7, \"C\": 6, \"CD\": 5, \"D\": 4}\n",
    "\n",
    "file2 = file1.find(\"Students\")\n",
    "courses = file1[8:file2]\n",
    "file3 = file1.find(\"Grades\")\n",
    "students = file1[file2+9:file3]\n",
    "grades = file1[file3+6:file1.find(\"EndOfInput\")]\n",
    "student1 = students.replace(\"\\n\", \" \")\n",
    "\n",
    "print (students)\n"
   ]
  },
  {
   "cell_type": "code",
   "execution_count": 5,
   "metadata": {
    "collapsed": false
   },
   "outputs": [
    {
     "name": "stdout",
     "output_type": "stream",
     "text": [
      "Iteration 0; count is: 12\n",
      "Iteration 1; count is: 24\n",
      "Iteration 2; count is: 36\n",
      "Iteration 3; count is: 48\n",
      "Iteration 4; count is: 60\n"
     ]
    }
   ],
   "source": [
    "count = 0\n",
    "phrase = \"hello, world\"\n",
    "for iteration in range(5):\n",
    "    while True:\n",
    "        count += len(phrase)\n",
    "        break\n",
    "    print(\"Iteration \" + str(iteration) + \"; count is: \" + str(count))"
   ]
  },
  {
   "cell_type": "code",
   "execution_count": 4,
   "metadata": {
    "collapsed": false
   },
   "outputs": [
    {
     "name": "stdout",
     "output_type": "stream",
     "text": [
      "40\n"
     ]
    }
   ],
   "source": [
    "\"\"\"Linked list\"\"\"\n",
    "class Node:\n",
    "    def __init__(self, v = None):\n",
    "        self.value = v\n",
    "        self.next = None\n",
    "        return\n",
    "\n",
    "    def isempty(self):\n",
    "        if self.value == None:\n",
    "            return(True)\n",
    "        else:\n",
    "            return(False)\n",
    "\n",
    "    def append(self,v):   # append, recursive\n",
    "        if self.isempty():\n",
    "            self.value = v\n",
    "        elif self.next == None:\n",
    "            newnode = Node(v)\n",
    "            self.next = newnode\n",
    "        else:\n",
    "            self.next.append(v)\n",
    "        return\n",
    "\n",
    "    def insert(self,v):\n",
    "        if self.isempty():\n",
    "            self.value = v\n",
    "            return\n",
    "\n",
    "        newnode = Node(v)\n",
    "\n",
    "        # Evchange values in self and newnode\n",
    "        (self.value, newnode.value) = (newnode.value, self.value)\n",
    "        (self.next, newnode.next) = (newnode, self.next)\n",
    "\n",
    "        return\n",
    "\n",
    "    def delete(self,v):   # delete, recursive\n",
    "        if self.isempty():\n",
    "            return\n",
    "\n",
    "        if self.value == v:\n",
    "            self.value = None\n",
    "            if self.next != None:\n",
    "                self.value = self.next.value\n",
    "                self.next = self.next.next\n",
    "            return\n",
    "        else:\n",
    "            if self.next != None:\n",
    "                self.next.delete(v)\n",
    "                if self.next.value == None:\n",
    "                    self.next = None\n",
    "        return\n",
    "                \n",
    "    def __str__(self):\n",
    "        selflist = []\n",
    "        if self.value == None:\n",
    "            return(str(selflist))\n",
    "\n",
    "        temp = self\n",
    "        selflist.append(temp.value)\n",
    "        \n",
    "        while temp.next != None:\n",
    "            temp = temp.next\n",
    "            selflist.append(temp.value)\n",
    "\n",
    "        return(str(selflist))\n",
    "    def sum(self):\n",
    "        if self.value == None:\n",
    "            return(0)\n",
    "        elif self.next == None:\n",
    "            return(self.value)\n",
    "        else:\n",
    "            return(self.value + self.next.sum())\n",
    "    \n",
    "myList = Node(12)\n",
    "myList.insert(23)\n",
    "myList.append(5)\n",
    "print(myList.sum())\n"
   ]
  },
  {
   "cell_type": "code",
   "execution_count": 32,
   "metadata": {
    "collapsed": false
   },
   "outputs": [
    {
     "name": "stdout",
     "output_type": "stream",
     "text": [
      "7\n"
     ]
    }
   ],
   "source": [
    "class Tree:\n",
    "\n",
    "    # Empty node has self.value, self.left, self.right = None\n",
    "    # Leaf has self.value != None, and self.left, self.right point to empty node\n",
    "\n",
    "    # Constructor: create an empty node or a leaf node, depending on initval\n",
    "    def __init__(self,initval=None):\n",
    "        self.value = initval\n",
    "        if self.value:\n",
    "            self.left = Tree()\n",
    "            self.right = Tree()\n",
    "        else:\n",
    "            self.left = None\n",
    "            self.right = None\n",
    "        return\n",
    "\n",
    "    # Only empty node has value None\n",
    "    def isempty(self):\n",
    "        return (self.value == None)\n",
    "\n",
    "    # Leaf nodes have both children empty\n",
    "    def isleaf(self):\n",
    "        return (self.left.isempty() and self.right.isempty())\n",
    "\n",
    "    # Convert a leaf node to an empty node\n",
    "    def makeempty(self):\n",
    "        self.value = None\n",
    "        self.left = None\n",
    "        self.right = None\n",
    "        return\n",
    "\n",
    "    # Copy right child values to current node\n",
    "    def copyright(self):\n",
    "        self.value = self.right.value\n",
    "        self.left = self.right.left\n",
    "        self.right = self.right.right\n",
    "        return\n",
    "    \n",
    "    # Check if value v occurs in tree\n",
    "    def find(self,v):\n",
    "        if self.isempty():\n",
    "            return(False)\n",
    "\n",
    "        if self.value == v:\n",
    "            return(True)\n",
    "\n",
    "        if v < self.value:\n",
    "            return(self.left.find(v))\n",
    "\n",
    "        if v > self.value:\n",
    "            return(self.right.find(v))\n",
    "\n",
    "    # Insert value v in tree\n",
    "    def insert(self,v):\n",
    "        if self.isempty():\n",
    "            self.value = v\n",
    "            self.left = Tree()\n",
    "            self.right = Tree()\n",
    "\n",
    "        if self.value == v:\n",
    "            return\n",
    "\n",
    "        if v < self.value:\n",
    "            self.left.insert(v)\n",
    "            return\n",
    "\n",
    "        if v > self.value:\n",
    "            self.right.insert(v)\n",
    "            return\n",
    "\n",
    "    # Find maximum value in a nonempty tree\n",
    "    def maxval(self):\n",
    "        if self.right.isempty():\n",
    "            return(self.value)\n",
    "        else:\n",
    "            return(self.right.maxval())\n",
    "\n",
    "    # Delete value v from tree\n",
    "    def delete(self,v):\n",
    "        if self.isempty():\n",
    "            return\n",
    "\n",
    "        if v < self.value:\n",
    "            self.left.delete(v)\n",
    "            return\n",
    "\n",
    "        if v > self.value:\n",
    "            self.right.delete(v)\n",
    "            return\n",
    "\n",
    "        if v == self.value:\n",
    "            if self.isleaf():\n",
    "                self.makeempty()\n",
    "            elif self.left.isempty():\n",
    "                self.copyright()\n",
    "            else:\n",
    "                self.value = self.left.maxval()\n",
    "                self.left.delete(self.left.maxval())\n",
    "            return\n",
    "\n",
    "    # Inorder traversal\n",
    "    def inorder(self):\n",
    "        if self.isempty():\n",
    "            return([])\n",
    "        else:\n",
    "            return(self.left.inorder()+[self.value]+self.right.inorder())\n",
    "\n",
    "    # Display Tree as a string\n",
    "    def __str__(self):\n",
    "        return(str(self.inorder()))\n",
    "    \n",
    "    def foo(self):\n",
    "        if self.isempty():\n",
    "            return(0)\n",
    "        elif self.isleaf():\n",
    "            return(1)\n",
    "        else:\n",
    "            return(1 + max(self.left.foo(),self.right.foo()))\n",
    "        \n",
    "myTree = Tree()\n",
    "for i in [8,12,1,2,3,7,6,43,5,9,77,22,33]:\n",
    "    myTree.insert(i)\n",
    "\n",
    "print (myTree.foo())\n",
    "\n"
   ]
  },
  {
   "cell_type": "code",
   "execution_count": 1,
   "metadata": {
    "collapsed": false
   },
   "outputs": [
    {
     "name": "stdout",
     "output_type": "stream",
     "text": [
      "Iteration 0; count is: 1\n",
      "Iteration 1; count is: 12\n",
      "Iteration 2; count is: 1\n",
      "Iteration 3; count is: 12\n",
      "Iteration 4; count is: 1\n"
     ]
    }
   ],
   "source": [
    "iteration = 0\n",
    "while iteration < 5:\n",
    "    count = 0\n",
    "    for letter in \"hello, world\":\n",
    "        count += 1\n",
    "        if iteration % 2 == 0:\n",
    "            break\n",
    "    print(\"Iteration \" + str(iteration) + \"; count is: \" + str(count))\n",
    "    iteration += 1 "
   ]
  },
  {
   "cell_type": "code",
   "execution_count": null,
   "metadata": {
    "collapsed": true
   },
   "outputs": [],
   "source": [
    "x = 25\n",
    "epsilon = 0.01\n",
    "step = 0.1\n",
    "guess = 0.0\n",
    "\n",
    "while guess <= x:\n",
    "    if abs(guess**2 -x) >= epsilon:\n",
    "        guess += step\n",
    "\n",
    "if abs(guess**2 - x) >= epsilon:\n",
    "    print('failed')\n",
    "else:\n",
    "    print('succeeded: ' + str(guess))"
   ]
  },
  {
   "cell_type": "code",
   "execution_count": 1,
   "metadata": {
    "collapsed": false
   },
   "outputs": [
    {
     "name": "stdout",
     "output_type": "stream",
     "text": [
      "X:  474 Y:  183 RGB: (245, 245, 245)\n",
      "Done...\n"
     ]
    }
   ],
   "source": [
    "\"\"\"Doing Useful Stuff with Python – Getting RGB color value of mouse position | Python Tutorials Simplified\n",
    "\n",
    "Doing Useful Stuff with Python – Getting RGB color value of mouse position \"\"\"    \n",
    "    \n",
    "    import pyautogui\n",
    "    import time\n",
    "    def print_no_newline(string):\n",
    "        import sys\n",
    "        sys.stdout.write(\"\\r\")\n",
    "        sys.stdout.write(string)\n",
    "        sys.stdout.flush()\n",
    "    try:\n",
    "        while True:\n",
    "            x, y = pyautogui.position()\n",
    "            pixelColor = pyautogui.screenshot().getpixel((x, y))\n",
    "            ss = 'X: ' + str(x).rjust(4) + ' Y: ' + str(y).rjust(4)\n",
    "            ss += ' RGB: (' + str(pixelColor[0]).rjust(3)\n",
    "            ss += ', ' + str(pixelColor[1]).rjust(3)\n",
    "            ss += ', ' + str(pixelColor[2]).rjust(3) + ')'\n",
    "            print_no_newline(ss)\n",
    "            time.sleep(1.0)\n",
    "    except KeyboardInterrupt:\n",
    "        print(\"\\nDone...\")"
   ]
  },
  {
   "cell_type": "code",
   "execution_count": 13,
   "metadata": {
    "collapsed": false
   },
   "outputs": [
    {
     "name": "stdout",
     "output_type": "stream",
     "text": [
      "Please think a number between 0 and 100!\n",
      "......\n",
      "Is your secret number 50?\n",
      "Enter 'h' to indicate the guess is too high. Enter 'l' to indicate guess is too low. Enter 'c' to indicate i guessed correctly.l\n",
      "Is your secret number 75?\n",
      "Enter 'h' to indicate the guess is too high. Enter 'l' to indicate guess is too low. Enter 'c' to indicate i guessed correctly.l\n",
      "Is your secret number 87?\n",
      "Enter 'h' to indicate the guess is too high. Enter 'l' to indicate guess is too low. Enter 'c' to indicate i guessed correctly.l\n",
      "Is your secret number 93?\n",
      "Enter 'h' to indicate the guess is too high. Enter 'l' to indicate guess is too low. Enter 'c' to indicate i guessed correctly.c\n",
      "Game over. Your secret number was: 93\n"
     ]
    }
   ],
   "source": [
    "\"\"\"The program works as follows: you (the user) thinks of an integer between 0 (inclusive) and 100 (not inclusive).\n",
    "The computer makes guesses, and you give it input - is its guess too high or too low? Using bisection search,\n",
    "the computer will guess the user's secret number!\"\"\"\n",
    "import time\n",
    "\n",
    "print (\"Please think a number between 0 and 100!\")\n",
    "time.sleep(1)\n",
    "print(\".\", end = \"\")\n",
    "time.sleep(1)\n",
    "print (\"..\", end = \"\")\n",
    "time.sleep(1)\n",
    "print (\"...\")\n",
    "time.sleep(1)\n",
    "\n",
    "high, low = 100, 0\n",
    "\n",
    "guessed = False\n",
    "while not guessed:\n",
    "    #Bisection Search: guess the midpoint between our current high and low guesses\n",
    "    guess =(high+low)//2\n",
    "    print (\"Is your secret number \" + str(guess)+ \"?\")\n",
    "    user_ip = input(\"Enter 'h' to indicate the guess is too high. Enter 'l' to indicate guess is too low. Enter 'c' to indicate i guessed correctly.\")\n",
    "    if user_ip == 'c':\n",
    "        guessed = True\n",
    "    elif user_ip == 'l':\n",
    "        low = guess\n",
    "    elif user_ip == 'h':\n",
    "        high = guess\n",
    "    else:\n",
    "        print (\"sorry I did not understand your input\")\n",
    "        \n",
    "print (\"Game over. Your secret number was: \" + str(guess))\n",
    "        "
   ]
  },
  {
   "cell_type": "code",
   "execution_count": null,
   "metadata": {
    "collapsed": false
   },
   "outputs": [],
   "source": [
    "g"
   ]
  },
  {
   "cell_type": "code",
   "execution_count": 32,
   "metadata": {
    "collapsed": false
   },
   "outputs": [
    {
     "name": "stdout",
     "output_type": "stream",
     "text": [
      "5\n",
      "[1, 2, 3, 4]\n"
     ]
    },
    {
     "data": {
      "text/plain": [
       "4"
      ]
     },
     "execution_count": 32,
     "metadata": {},
     "output_type": "execute_result"
    }
   ],
   "source": [
    "def secondmax(l):\n",
    "    (mymax,mysecondmax) = (0,0)\n",
    "    \n",
    "    mymax = max(l)\n",
    "    print (mymax)\n",
    "    l.remove(mymax)\n",
    "    print (l)\n",
    "    mysecondmax = max(l)\n",
    "    return mysecondmax\n",
    "secondmax([1,2,3,4,5])"
   ]
  },
  {
   "cell_type": "code",
   "execution_count": 3,
   "metadata": {
    "collapsed": false,
    "scrolled": true
   },
   "outputs": [
    {
     "name": "stdout",
     "output_type": "stream",
     "text": [
      "Enter the value: 99\n",
      "numGuesses= 5\n",
      "square root of 99 is about 9.949917498157747\n"
     ]
    }
   ],
   "source": [
    "\"\"\"Newton Raphson method for squareroot\"\"\"\n",
    "\n",
    "epsilon = 0.01\n",
    "y = int(input(\"Enter the value: \"))\n",
    "guess=  y/2.0\n",
    "numGuesses = 0\n",
    "\n",
    "while abs(guess*guess-y) >= epsilon:\n",
    "    numGuesses += 1\n",
    "    guess = guess - (((guess**2)-y)/(2*guess))\n",
    "print (\"numGuesses= \"+ str(numGuesses))\n",
    "print (\"square root of \" + str(y) + \" is about \" + str(guess))"
   ]
  },
  {
   "cell_type": "code",
   "execution_count": null,
   "metadata": {
    "collapsed": false
   },
   "outputs": [
    {
     "name": "stdout",
     "output_type": "stream",
     "text": [
      "our dear friend,\n",
      "['our dear friend,']\n",
      "let's eat\n",
      "['our dear friend,', \"let's eat\"]\n"
     ]
    }
   ],
   "source": [
    "\"\"\"Write a Python program that reads input from the keyboard (standard input). The input will consist of an even number of lines of text. The input will be terminated by a blank line. Suppose there are 2n lines of input. Your program should print out the last n lines of the input, i.e., the second half of the input, followed by the first n lines, i.e., the first half of the input.\n",
    "\n",
    "E.g., if the input is the following:\n",
    "\n",
    "our dear friend,\n",
    "let's eat\n",
    "\n",
    "then the output should be:\n",
    "\n",
    "let's eat\n",
    "our dear friend,\n",
    "\"\"\"\n",
    "list1 = []\n",
    "data = input('') \n",
    "while data != '':\n",
    "    list1.append(data)\n",
    "    print (list1)\n",
    "    data = input('')\n",
    "  \n",
    "length = len(list1)\n",
    "for i in range(int(length/2), length):\n",
    "  print(list1[i])\n",
    "for i in range(0, int(length/2)):\n",
    "  print(list1[i])"
   ]
  },
  {
   "cell_type": "code",
   "execution_count": null,
   "metadata": {
    "collapsed": true
   },
   "outputs": [],
   "source": []
  }
 ],
 "metadata": {
  "kernelspec": {
   "display_name": "Python 3",
   "language": "python",
   "name": "python3"
  },
  "language_info": {
   "codemirror_mode": {
    "name": "ipython",
    "version": 3
   },
   "file_extension": ".py",
   "mimetype": "text/x-python",
   "name": "python",
   "nbconvert_exporter": "python",
   "pygments_lexer": "ipython3",
   "version": "3.6.0"
  }
 },
 "nbformat": 4,
 "nbformat_minor": 2
}
